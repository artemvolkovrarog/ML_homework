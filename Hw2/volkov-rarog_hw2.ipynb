{
 "cells": [
  {
   "cell_type": "markdown",
   "metadata": {},
   "source": [
    "# Алгоритмы интеллектуальной обработки больших объемов данных\n",
    "## Домашнее задание №2: Линейные модели\n"
   ]
  },
  {
   "cell_type": "markdown",
   "metadata": {},
   "source": [
    "###### <hr\\>\n",
    "**Общая информация**\n",
    "\n",
    "**Срок сдачи:** 09 ноября 18:00 Сдача **очная** на онлайн занятии. <br\\>\n",
    "\n",
    "\n",
    "Используйте данный Ipython Notebook при оформлении домашнего задания.\n",
    "\n",
    "Присылать ДЗ необходимо в виде ссылки на свой github репозиторий на почту ml1.sphere@mail.ru с указанием темы в следующем формате:\n",
    "\n",
    "[ML0920, Задание 2] Фамилия Имя.\n",
    "\n",
    "\n",
    "\n",
    "**Штрафные баллы:**\n",
    "\n",
    "1. Невыполнение PEP8 -1 балл\n",
    "2. Отсутствие фамилии в имени скрипта (скрипт должен называться по аналогии со stroykova_hw2.ipynb) -1 балл\n",
    "3. Все строчки должны быть выполнены. Нужно, чтобы output команды можно было увидеть уже в git'е. В противном случае -1 балл\n",
    "4. При оформлении ДЗ нужно пользоваться данным файлом в качестве шаблона. Не нужно удалять и видоизменять написанный код и текст, если явно не указана такая возможность. В противном случае -1 балл\n",
    "<hr\\>"
   ]
  },
  {
   "cell_type": "code",
   "execution_count": 1,
   "metadata": {},
   "outputs": [],
   "source": [
    "import pandas as pd\n",
    "import numpy as np\n",
    "import matplotlib.pyplot as plt\n",
    "\n",
    "%matplotlib inline\n",
    "\n",
    "plt.style.use('ggplot')\n",
    "plt.rcParams['figure.figsize'] = (12,5)"
   ]
  },
  {
   "cell_type": "markdown",
   "metadata": {},
   "source": [
    "Здравствуйте, уважаемые студенты! \n",
    "\n",
    "В этом задании мы будем реализовать линейные модели. Необходимо реализовать линейную и логистическую регрессии с L2 регуляризацией"
   ]
  },
  {
   "cell_type": "markdown",
   "metadata": {},
   "source": [
    "# Теоретическое введение\n",
    "\n"
   ]
  },
  {
   "cell_type": "markdown",
   "metadata": {},
   "source": [
    "Линейная регрессия решает задачу регрессии и оптимизирует функцию потерь MSE \n",
    "\n",
    "$$L(w) =  \\frac{1}{N}\\left[\\sum_i (y_i - a_i) ^ 2 \\right], $$ где $y_i$ $-$ целевая функция,  $a_i = a(x_i) =  \\langle\\,x_i,w\\rangle ,$ $-$ предсказание алгоритма на объекте $x_i$, $w$ $-$ вектор весов (размерности $D$), $x_i$ $-$ вектор признаков (такой же размерности $D$).\n",
    "\n",
    "Не забываем, что здесь и далее  мы считаем, что в $x_i$ есть тождественный вектор единиц, ему соответствует вес $w_0$.\n"
   ]
  },
  {
   "cell_type": "markdown",
   "metadata": {},
   "source": [
    "Логистическая регрессия является линейным классификатором, который оптимизирует так называемый функционал log loss:"
   ]
  },
  {
   "cell_type": "markdown",
   "metadata": {},
   "source": [
    "$$L(w) = - \\frac{1}{N}\\left[ \\sum_i y_i \\log a_i + ( 1 - y_i) \\log (1 - a_i) \\right],$$\n",
    "где  $y_i  \\in \\{0,1\\}$ $-$ метка класса, $a_i$ $-$ предсказание алгоритма на объекте $x_i$. Модель пытается предсказать апостериорую вероятность объекта принадлежать к классу \"1\":\n",
    "$$ p(y_i = 1 | x_i) = a(x_i) =  \\sigma( \\langle x_i,w\\rangle ),$$\n",
    "$w$ $-$ вектор весов (размерности $D$), $x_i$ $-$ вектор признаков (такой же размерности $D$).\n",
    "\n",
    "Функция $\\sigma(x)$ $-$ нелинейная функция, пероводящее скалярное произведение объекта на веса в число $\\in (0,1)$ (мы же моделируем вероятность все-таки!)\n",
    "\n",
    "$$\\sigma(x) = \\frac{1}{1 + \\exp(-x)}$$\n",
    "\n",
    "Если внимательно посмотреть на функцию потерь, то можно заметить, что в зависимости от правильного ответа алгоритм штрафуется или функцией $-\\log a_i$, или функцией $-\\log (1 - a_i)$.\n",
    "\n"
   ]
  },
  {
   "cell_type": "markdown",
   "metadata": {},
   "source": [
    "Часто для решения проблем, которые так или иначе связаны с проблемой переобучения, в функционал качества добавляют слагаемое, которое называют ***регуляризацией***. Итоговый функционал для линейной регрессии тогда принимает вид:\n",
    "\n",
    "$$L(w) =  \\frac{1}{N}\\left[\\sum_i (y_i - a_i) ^ 2 \\right] + \\frac{1}{C}R(w) $$\n",
    "\n",
    "Для логистической: \n",
    "$$L(w) = - \\frac{1}{N}\\left[\\sum_i y_i \\log a_i + ( 1 - y_i) \\log (1 - a_i) \\right] +  \\frac{1}{C}R(w)$$\n",
    "\n",
    "Самое понятие регуляризации введено основателем ВМК академиком Тихоновым https://ru.wikipedia.org/wiki/Метод_регуляризации_Тихонова\n",
    "\n",
    "Идейно методика регуляризации заключается в следующем $-$ мы рассматриваем некорректно поставленную задачу (что это такое можно найти в интернете), для того чтобы сузить набор различных вариантов (лучшие из которых будут являться переобучением ) мы вводим дополнительные ограничения на множество искомых решений. На лекции Вы уже рассмотрели два варианта регуляризации.\n",
    "\n",
    "$L1$ регуляризация:\n",
    "$$R(w) = \\sum_{j=1}^{D}|w_j|$$\n",
    "$L2$ регуляризация:\n",
    "$$R(w) =  \\sum_{j=1}^{D}w_j^2$$\n",
    "\n",
    "С их помощью мы ограничиваем модель в  возможности выбора каких угодно весов минимизирующих наш лосс, модель уже не сможет подстроиться под данные как ей угодно. \n",
    "\n",
    "Вам нужно добавить соотвествущую Вашему варианту $L2$ регуляризацию.\n",
    "\n",
    "И так, мы поняли, какую функцию ошибки будем минимизировать, разобрались, как получить предсказания по объекту и обученным весам. Осталось разобраться, как получить оптимальные веса. Для этого нужно выбрать какой-то метод оптимизации.\n",
    "\n"
   ]
  },
  {
   "cell_type": "markdown",
   "metadata": {},
   "source": [
    "Градиентный спуск является самым популярным алгоритмом обучения линейных моделей. В этом задании Вам предложат реализовать стохастический градиентный спуск или  мини-батч градиентный спуск (мини-батч на русский язык довольно сложно перевести, многие переводят это как \"пакетный\", но мне не кажется этот перевод удачным). Далее нам потребуется определение **эпохи**.\n",
    "Эпохой в SGD и MB-GD называется один проход по **всем** объектам в обучающей выборки.\n",
    "* В SGD градиент расчитывается по одному случайному объекту. Сам алгоритм выглядит примерно так:\n",
    "        1) Перемешать выборку\n",
    "        2) Посчитать градиент функции потерь на одном объекте (далее один объект тоже будем называть батчем)\n",
    "        3) Сделать шаг спуска\n",
    "        4) Повторять 2) и 3) пока не пройдет максимальное число эпох.\n",
    "* В Mini Batch SGD - по подвыборке объектов. Сам алгоритм выглядит примерно так::\n",
    "        1) Перемешать выборку, выбрать размер мини-батча (от 1 до размера выборки)\n",
    "        2) Почитать градиент функции потерь по мини-батчу (не забыть поделить на  число объектов в мини-батче)\n",
    "        3) Сделать шаг спуска\n",
    "        4) Повторять 2) и 3) пока не пройдет максимальное число эпох.\n",
    "* Для отладки алгоритма реализуйте возможность  вывода средней ошибки на обучении модели по объектам (мини-батчам). После шага градиентного спуска посчитайте значение ошибки на объекте (или мини-батче), а затем усредните, например, по ста шагам. Если обучение проходит корректно, то мы должны увидеть, что каждые 100 шагов функция потерь уменьшается. \n",
    "* Правило останова - максимальное количество эпох\n",
    "    \n"
   ]
  },
  {
   "cell_type": "markdown",
   "metadata": {},
   "source": [
    "# Теоретические вопросы (2 балла)\n",
    "В этой части Вам будут предложены теоретичские вопросы и задачи по теме. Вы, конечно, можете списать их у своего товарища или найти решение в интернете, но учтите, что они обязательно войдут в теоретический коллоквиум. Лучше разобраться в теме сейчас и успешно ответить на коллоквиуме, чем списать, не разобравшись в материале, и быть терзаемым совестью. \n",
    "\n",
    "\n",
    "Формулы надо оформлять в формате **LaTeX**."
   ]
  },
  {
   "cell_type": "markdown",
   "metadata": {},
   "source": [
    "Задача 1. Градиент для линейной регрессии.\n",
    "* Выпишите формулу обновления весов для линейной регрессии с L2 регуляризацией для мини-батч градиентого спуска размера $n$:\n",
    "$$w_{new} = w_{old} - ...$$\n",
    "\n",
    "\n",
    " Отнеситесь к этому пункту максимально серьезно, это Вам нужно будет реализовать в задании.\n",
    " \n",
    "Проанализруйте итоговую формулу градиента - как  интуитивно можно  описать, чему равен градиент?"
   ]
  },
  {
   "cell_type": "markdown",
   "metadata": {},
   "source": [
    "***Ваше решение здесь***\n",
    "Предположим, что матрица $X\\in R^{NxD}, y \\in R^{Nx1}, w \\in R^{Dx1}$, где $ N \\geq D$.\n",
    "Выпишем градиент функционала качества.\n",
    "\n",
    "$$\\nabla Q(w) = \\nabla (\\frac {1}{N} \\sum_{i=1}^{N} \\left[\\langle x_i,w\\rangle - y_i\\right]^2) = \\nabla(\\frac{1}{N}(Xw - y)^2) = \\nabla\\left[\\frac{1}{N}(w^Tx^TXw - w^TX^Ty - y^TXw + y^Ty)\\right] = \\frac{1}{N}(2x^TXw - X^Ty - X^Ty) = \\frac{1}{N}(2x^TXw - 2X^Ty)= \\frac{2}{N}X^T(Xw -y)$$\n",
    "$$\\nabla R(w) = \\nabla \\left[ \\sum_{j = 1}^{D}w_j^2\\right] = 2w$$\n",
    "\n",
    "В нашей задаче матрица $X$ имеет вид $X = (x_{j_1},.., x_{j_n})^T$, где $x_{j_i} = (x_{j_i1},..,x_{j_iD}), i = 1..n $, индексы объектов мини-батча : $1 \\leq j_1\\lt .. \\lt j_n \\leq N, w = (w_1,..,w_D)^T, y = (y_{j_1},..,y_{j_n})^T$\n",
    "\n",
    "Тогда $Q(w_{old}) = \\frac{1}{n}\\sum_{i = 1}^{n}(\\langle x_{j_i},w_{old}\\rangle - y_{j_i} )^2$\n",
    "\n",
    "В таком случае$$ w_{new} = w_{old} - \\alpha \\nabla Q(w_{old}) = w_{old} - \\alpha\\frac{2}{n}\\left[\\sum_{i=1}^{n}x_{j_i}^T(\\langle x_{j_i},w_{old}\\rangle - y_{j_i}))\\right] - \\alpha\\frac{2}{C}w_{old}$$\n",
    "ЗНАЧЕНИЕ ГРАДИЕНТА:\n",
    "Градиент - линейная комбинация точек из набора с коэффициентами, равными ошибкам алгоритма на соответствущем объекте, усредненная по каждой координате."
   ]
  },
  {
   "cell_type": "markdown",
   "metadata": {},
   "source": [
    "Задача 2. Градиент для логистической регрессии.\n",
    "* Выпишите формулу обновления весов для логистической регрессии с L2 регуляризацией  для мини-батч градиентого спуска размера $n$:\n",
    "$$w_{new} = w_{old} - ...$$\n",
    "\n",
    "\n",
    " Отнеситесь к этому пункту максимально серьезно, это Вам нужно будет реализовать в задании.\n",
    " \n",
    "Проанализруйте итоговую формулу градиента - как  интуитивно можно  описать, чему равен градиент? Как соотносится этот градиент с градиентом, возникающий в задаче линейной регрессии?\n",
    "\n",
    "Подсказка: Вам градиент, которой получается если “в лоб” продифференцировать,  надо немного преобразовать.\n",
    "Надо подставить, что $1 - \\sigma(w,x) $ это  $1 - a(x_i)$, а  $-\\sigma(w,x)$ это $0 - a(x_i)$.  Тогда получится свести к одной красивой формуле с линейной регрессией, которую программировать будет намного проще."
   ]
  },
  {
   "cell_type": "markdown",
   "metadata": {},
   "source": [
    "***Ваше решение здесь***\n",
    "\n",
    "Предположим, что матрица $X\\in R^{NxD}, y \\in R^{Nx1}, w \\in R^{Dx1}$, где $ N \\geq D$.\n",
    "Выпишем градиент функционала качества.\n",
    "$$\\nabla Q(w) = \\nabla\\left( -\\frac{1}{N}\\left[\\sum_{i=1}^{N}y_i log(\\frac{1}\n",
    "{1 + exp(-\\langle x_i,w\\rangle)}) + (1- y_i)log(1 - \\frac{1}{1 + exp(-\\langle x_i,w\\rangle)})\\right]\\right) =\\nabla\\left( -\\frac{1}{N}\\left[\\sum_{i=1}^{N}y_i log(\\frac{1}\n",
    "{1 + exp(-\\langle x_i,w\\rangle)}) + (1- y_i)log(\\frac{exp(-\\langle x_i,w\\rangle)}{1 + exp(-\\langle x_i,w\\rangle)})\\right]\\right) $$\n",
    "\n",
    "Сосчитаем $$ \\nabla\\left[-y_i log(1+exp(-\\langle x_i,w\\rangle))\\right] = \\frac{y_i exp(-\\langle x_i,w\\rangle)}{1+exp(-\\langle x_i,w\\rangle)} * x_i^T$$\n",
    "\n",
    "$$\\nabla (1-y_i)log(exp(-\\langle x_i,w\\rangle)) = (y_i - 1)*x_i^T$$\n",
    "\n",
    "$$\\nabla (1-y_i)log(1+exp(-\\langle x_i,w\\rangle)) = \\frac{(1-y_i)exp(-\\langle x_i,w\\rangle)}{1+exp(-\\langle x_i,w\\rangle)}*x_i^T$$\n",
    "\n",
    "Тогда $$\\nabla Q(w) = -\\frac{1}{N}\\left[\\sum_{i=1}^{N}\\left[x_i^T(y_i - \\frac{1}{1+exp(-\\langle x_i,w\\rangle)})\\right] \\right]$$\n",
    "\n",
    "В рамках нашей задачи матрица $X \\in R^{nxD}$ имеет вид $X = (x_{j_1},.., x_{j_n})^T$, где $x_{j_i} = (x_{j_i1},..,x_{j_iD}), i = 1..n $, индексы объектов мини-батча : $1 \\leq j_1\\lt .. \\lt j_n \\leq N, w = (w_1,..,w_D)^T, y = (y_{j_1},..,y_{j_n})^T$\n",
    "\n",
    "В таком случае$$ w_{new} =w_{old} - \\alpha \\nabla Q(w_{old}) - \\alpha \\nabla R(w)= w_{old} + \\alpha\\frac{1}{n}\\left[\\sum_{i=1}^{n}x_{j_i}^T( y_{j_i} - \\sigma(\\langle x_{j_i},w_{old}\\rangle)\\right] - \\alpha\\frac{2}{C}w_{old} $$\n",
    "\n",
    "ЗНАЧЕНИЕ ГРАДИЕНТА:\n",
    "градиент - линейная комбинация объектов выборки с коэффициентами, равными разности математического ожидания случайной величины $\\langle x_i,w\\rangle$ и истинного значения метки класса объекта, усредненная по количеству оъектов"
   ]
  },
  {
   "cell_type": "markdown",
   "metadata": {},
   "source": [
    "Задача 3. Точное решение линейной регрессии\n",
    "\n",
    "На лекции было показано, что точное решение линейной регрессии имеет вид $w = (X^TX)^{-1}X^TY $. \n",
    "* Покажите, что это действительно является точкой минимума в случае, если матрица X имеет строк не меньше, чем столбцов и имеет полный ранг. Подсказка: посчитайте Гессиан и покажите, что в этом случае он положительно определен. \n",
    "* Выпишите точное решение для модели с $L2$ регуляризацией. Как L2 регуляризация помогает с точным решением где матрица X имеет линейно зависимые признаки?\n"
   ]
  },
  {
   "cell_type": "markdown",
   "metadata": {},
   "source": [
    "***Ваше решение здесь***\n",
    "\n",
    "ГЕССИАН:\n",
    "Предположим, что матрица $X\\in R^{NxD}, y \\in R^{Nx1}, w \\in R^{Dx1}$, где $ N \\geq D$.\n",
    "Выпишем градиент функционала качества и представим в виде вектора:\n",
    "\n",
    "$$\\nabla Q(w) =  \\frac{2}{N}X^T(Xw -y) = \\frac{2}{N}\\left(\\begin {array}{cccc}\n",
    " c_1 - \\sum_{j=1}^{N}x_{j_1}y_j\\\\\n",
    " c_2 - \\sum_{j=1}^{N}x_{j_2}y_j\\\\\n",
    "\\vdots\\\\\n",
    " c_D - \\sum_{j=1}^{N}x_{j_D}y_j\n",
    "\\end{array} \\right),\n",
    "$$ где $c_k = \\sum_{i=1}^{N}x_{i_k}\\langle x_i,w\\rangle, k \\in {1,..,D}$\n",
    "\n",
    "В таком случае Гессиан $H(w)$ равен $H(w) =\\frac{2}{N} \n",
    "\\left(\\begin{array}{cccc}\n",
    "\\nabla c_1 \\\\\n",
    "\\nabla c_2 \\\\\n",
    "\\vdots\\\\\n",
    "\\nabla c_D \n",
    "\\end{array}\\right)\n",
    ",\n",
    "$ где $\\nabla c_k = \\left(\\sum_{i=1}^{N}x_{i_k}*x_{i_1},..,\\sum_{i=1}^{N}x_{i_k}*x_{i_D} \\right), k \\in {1,..,D} \\Rightarrow H(w) = X^TX.$\n",
    "\n",
    "Поскольку $rg(X) = rg(X^T) = D, rg(X^TX)\\geq rg(X^T) + rg(X) - D$ (из свойств ранга матриц) $\\Rightarrow rg(X^TX)\\geq D,$ но $X^TX \\in R^{DxD} \\Rightarrow rg(X^TX) \\leq D \\Rightarrow rg(X^TX) = D \\Rightarrow det(H(w))\\neq 0 \\forall w \\in R^{1xD}.$\n",
    "\n",
    "Если в качестве векторов взять столбцы исходной матрицы, из того, что $rg(X) = D$ следует, что все эти векторы линейно независимы. В таком случае матрица $H(w) = \\frac{2}{N}X^TX$ является матрицей грама для данной системы векторов. Поскольку для матрицы грама системы векторов справедливо неравенство $det(H) \\geq 0 \\Rightarrow$ из него и условия на то, что для нашей матрицы  $det(H(w)) \\neq 0 \\Rightarrow det(H(w)) \\gt 0 \\forall w \\in R^{1xD}.$ Это и значит, что для нашего функционала качества найденное точное решение $w$ является точкой локального минимума.\n",
    "\n",
    "ТОЧНОЕ РЕШЕНИЕ ДЛЯ $L2$ РЕГУЛЯРИЗАЦИИ:\n",
    "$$\\nabla Q(w) = \\nabla\\left(\\frac{1}{N}\\sum_{i=1}^{N}(\\langle x_i,w\\rangle-y_i)^2 \\right) + \\nabla \\frac{1}{C} R(w) = $$ {из задания №1 $\\nabla \\frac{1}{C}R(w) = \\frac{2}{C}w $, а так же известен вид $\\nabla Q(w) = \\frac{2}{N}X^T(Xw - y)$} = $\\frac{2}{N}X^T(Xw - y) + \\frac{2}{C}w.$\n",
    "\n",
    "Точное решение находится из уравнения $\\nabla Q(w) =0 \\Leftrightarrow \\frac{2}{N}X^T(Xw - y) + \\frac{2}{C}w = 0\n",
    "\\Leftrightarrow\\frac{2}{N}X^TXw + \\frac{2}{C}w= \\frac{2}{N}X^Ty\n",
    "\\Leftrightarrow (\\frac{2}{N}X^TX + \\frac{2}{C}I)w=X^Ty \\Leftrightarrow\\quad w = 2(\\frac{1}{N}X^TX + \\frac{1}{C}I)^{-1}X^Ty$\n",
    "\n",
    "КАК ПОМОГАЕТ РЕУЛЯРИЗАЦИЯ: в силу линейной зависимости признаков, исходное условие на полный ранг матрицы не будет выполняться, а как следствие, не будет существовать обратная матрица $(X^TX)^{-1}\\Rightarrow$ не будет существовать точное решение для задачи минимизации функционала качества. С этой целью применяется регуляризация, при помощи которой матрица, фигурирующая в нахождении точного решения, становится невырожденной."
   ]
  },
  {
   "cell_type": "markdown",
   "metadata": {},
   "source": [
    "Задача 4.  Предсказываем вероятности.\n",
    "\n",
    "Когда говорят о логистической регрессии, произносят фразу, что она \"предсказывает вероятности положительного класса\". Давайте разберемся, что же за этим стоит. Посчитаем математическое ожидание функции потерь и проверим, что предсказание алгоритма, оптимизирующее это мат. ожидание, будет являться вероятностью положительного класса. \n",
    "\n",
    "И так, функция потерь на объекте $x_i$, который имеет метку $y_i \\in \\{0,1\\}$  для предсказания $a(x_i)$ равна:\n",
    "$$L(y_i, b) =-[y_i == 1] \\log a(x_i)  - [y_i == 0] \\log(1 - a(x_i)) $$\n",
    "\n",
    "Где $[]$ означает индикатор $-$ он равен единице, если значение внутри него истинно, иначе он равен нулю. Тогда мат. ожидание при условии конкретного $x_i$  по определение мат. ожидания дискретной случайной величины:\n",
    "$$E(L | x_i) = -p(y_i = 1 |x_i ) \\log a(x_i)  - p(y_i = 0 | x_i) \\log( 1 - a(x_i))$$\n",
    "* Докажите, что значение $a(x_i)$, минимизирующее данное мат. ожидание, в точности равно $p(y_i = 1 |x_i)$, то есть равно вероятности положительного класса.\n",
    "\n",
    "Подсказка: возможно, придется воспользоваться, что  $p(y_i = 1 | x_i) + p(y_i = 0 | x_i) = 1$"
   ]
  },
  {
   "cell_type": "markdown",
   "metadata": {},
   "source": [
    "***Ваше решение здесь***\n",
    "\n",
    "Обозначим $E(L|x_i) = E, p(y_i=1|x_i) = p, a(x_i)= a, p(y_i=0|x_i) = 1-p(y_i=1|x_i) = 1-p$\n",
    "\n",
    "Тогда наша задача - минимизировать функционал E как E(p,a).\n",
    "$$\\frac{\\partial E(p,a)}{\\partial a} = -\\frac{p}{(1-a)a} + \\frac{1}{1-a} = 0 \\Leftrightarrow \\frac{a-p}{(1-a)a}=0 \\Leftrightarrow a=p$$\n",
    "\n",
    "Показали, что выполняется необходимое условие экстремума в точке $a=p$. Необходимо показать, что эта точка действительно является точкой локального минимума.\n",
    "$$ \\frac{\\partial ^2 E(p,a)}{\\partial a^2} = \\frac{1}{(1-a)^2} - p\\frac{\\partial}{\\partial a}\\left(\\frac{1}{a(1-a)}\\right) = \\frac{1}{(1-a)^2} + \\frac{p(1-2a)}{a^2(1-a)^2} = \\frac{a^2 + p - 2pa}{a^2(1-a)^2}\\Rightarrow \\frac{\\partial^2 E(p,a)}{\\partial a^2}\\bigg|_{a=p} =\\quad= \\frac{p^2 + p - 2p^2}{p^2(1-p)^2} = \\frac{p(1-p)}{p^2(1-p)^2} = \\frac{1}{p(1-p)} \\gt0\\Rightarrow$$\n",
    "значение $$a(x_i) = p(y_i=1|x_i)$$ является точкой локального минимума функции, что и требовалось доказать."
   ]
  },
  {
   "cell_type": "markdown",
   "metadata": {},
   "source": [
    "Задача 5.  Смысл регуляризации.\n",
    "\n",
    "Нужно ли в L1/L2 регуляризации использовать свободный член $w_0$ (который не умножается ни на какой признак)?\n",
    "\n",
    "Подсказка: подумайте, для чего мы вводим $w_0$"
   ]
  },
  {
   "cell_type": "markdown",
   "metadata": {},
   "source": [
    "***Ваше решение здесь***\n",
    "\n",
    "Свободный член нет необходимости регуляризовать, поскольку он отвечает за смещение разделяющей поверхности в пространстве. В отличие от него, другие коэффициенты влияют на наклон этой кривой, из-за чего их необходимо минимизировать по своей величине."
   ]
  },
  {
   "cell_type": "markdown",
   "metadata": {},
   "source": [
    "#  Реализация линейной модели (4 балла)"
   ]
  },
  {
   "cell_type": "markdown",
   "metadata": {},
   "source": [
    "## Зачем нужны батчи?\n"
   ]
  },
  {
   "cell_type": "markdown",
   "metadata": {},
   "source": [
    "Как Вы могли заметить из теоретического введения, что в случае SGD, что в случа mini-batch GD,  на каждой итерации обновление весов  происходит только по небольшой части данных (1 пример в случае SGD, batch примеров в случае mini-batch). То есть для каждой итерации нам *** не нужна вся выборка***. Мы можем просто итерироваться по выборке, беря батч нужного размера (далее 1 объект тоже будем называть батчом).\n",
    "\n",
    "Легко заметить, что в этом случае нам не нужно загружать все данные в оперативную память, достаточно просто считать батч с диска, обновить веса, считать диска другой батч и так далее. В целях упрощения домашней работы, прямо с диска  мы считывать не будем, будем работать с обычными numpy array. \n",
    "\n",
    "\n",
    "\n"
   ]
  },
  {
   "cell_type": "markdown",
   "metadata": {},
   "source": [
    "## Немножко про генераторы в Python\n",
    "\n"
   ]
  },
  {
   "cell_type": "markdown",
   "metadata": {},
   "source": [
    "Идея считывания данных кусками удачно ложится на так называемые ***генераторы*** из языка Python. В данной работе Вам предлагается не только разобраться с логистической регрессией, но  и познакомиться с таким важным элементом языка.  При желании Вы можете убрать весь код, связанный с генераторами, и реализовать логистическую регрессию и без них, ***штрафоваться это никак не будет***. Главное, чтобы сама модель была реализована правильно, и все пункты были выполнены. \n",
    "\n",
    "Подробнее можно почитать вот тут https://anandology.com/python-practice-book/iterators.html\n"
   ]
  },
  {
   "cell_type": "markdown",
   "metadata": {},
   "source": [
    "К генератору стоит относиться просто как к функции, которая порождает не один объект, а целую последовательность объектов. Новое значение из последовательности генерируется с помощью ключевого слова ***yield***. Ниже Вы можете насладиться  генератором чисел Фибоначчи."
   ]
  },
  {
   "cell_type": "code",
   "execution_count": 9,
   "metadata": {},
   "outputs": [],
   "source": [
    "def fib(max_iter=4):\n",
    "    a, b = 0, 1\n",
    "    iter_num = 0\n",
    "    while 1:\n",
    "        yield a\n",
    "        a, b = b, a + b\n",
    "        iter_num += 1\n",
    "        if iter_num == max_iter:\n",
    "            break"
   ]
  },
  {
   "cell_type": "markdown",
   "metadata": {},
   "source": [
    "Вот так можно сгенерировать последовательность Фибоначчи. \n",
    "\n",
    "Заметьте, что к генераторам можно применять некоторые стандартные функции из Python, например enumerate."
   ]
  },
  {
   "cell_type": "code",
   "execution_count": 7,
   "metadata": {},
   "outputs": [
    {
     "name": "stdout",
     "output_type": "stream",
     "text": [
      "Fib num: 0 fib values: 0\n",
      "Fib num: 1 fib values: 1\n",
      "Fib num: 2 fib values: 1\n",
      "Fib num: 3 fib values: 2\n"
     ]
    }
   ],
   "source": [
    "new_generator = fib()\n",
    "for j, fib_val in enumerate(new_generator):\n",
    "    print (\"Fib num: \" + str(j) + \" fib values: \" + str(fib_val))"
   ]
  },
  {
   "cell_type": "markdown",
   "metadata": {},
   "source": [
    "Пересоздавая объект, можно сколько угодно раз генерировать заново последовательность. "
   ]
  },
  {
   "cell_type": "code",
   "execution_count": 127,
   "metadata": {},
   "outputs": [
    {
     "name": "stdout",
     "output_type": "stream",
     "text": [
      "Fib num: 0 fib values: 0\n",
      "Fib num: 1 fib values: 1\n",
      "Fib num: 2 fib values: 1\n",
      "Fib num: 3 fib values: 2\n",
      "Fib num: 0 fib values: 0\n",
      "Fib num: 1 fib values: 1\n",
      "Fib num: 2 fib values: 1\n",
      "Fib num: 3 fib values: 2\n",
      "Fib num: 0 fib values: 0\n",
      "Fib num: 1 fib values: 1\n",
      "Fib num: 2 fib values: 1\n",
      "Fib num: 3 fib values: 2\n"
     ]
    }
   ],
   "source": [
    "for i in range(0, 3):\n",
    "    new_generator = fib()\n",
    "    for j, fib_val in enumerate(new_generator):\n",
    "        print (\"Fib num: \" + str(j) + \" fib values: \" + str(fib_val))"
   ]
  },
  {
   "cell_type": "markdown",
   "metadata": {},
   "source": [
    "А вот так уже нельзя."
   ]
  },
  {
   "cell_type": "code",
   "execution_count": 4,
   "metadata": {},
   "outputs": [
    {
     "name": "stdout",
     "output_type": "stream",
     "text": [
      "Fib num: 0 fib values: 0\n",
      "Fib num: 1 fib values: 1\n",
      "Fib num: 2 fib values: 1\n",
      "Fib num: 3 fib values: 2\n"
     ]
    }
   ],
   "source": [
    "new_generator = fib()\n",
    "for i in range(0, 3):\n",
    "    for j, fib_val in enumerate(new_generator):\n",
    "        print (\"Fib num: \" + str(j) + \" fib values: \" + str(fib_val))"
   ]
  },
  {
   "cell_type": "markdown",
   "metadata": {},
   "source": [
    "Концепция крайне удобная для обучения  моделей $-$ у Вас есть некий источник данных, который Вам выдает их кусками, и Вам совершенно все равно откуда он их берет. Под ним может скрывать как массив в оперативной памяти, как файл на жестком диске, так и SQL база данных. Вы сами данные никуда не сохраняете, оперативную память экономите."
   ]
  },
  {
   "cell_type": "markdown",
   "metadata": {},
   "source": [
    "Если Вам понравилась идея с генераторами, то Вы можете реализовать свой, используя прототип batch_generator. В нем Вам нужно выдавать батчи признаков и ответов для каждой новой итерации спуска. Если не понравилась идея, то можете реализовывать SGD или mini-batch GD без генераторов."
   ]
  },
  {
   "cell_type": "code",
   "execution_count": 12,
   "metadata": {},
   "outputs": [],
   "source": [
    "def batch_generator(X, y, shuffle=True, batch_size=1):\n",
    "    \"\"\"\n",
    "    Гератор новых батчей для обучения\n",
    "    X          - матрица объекты-признаки\n",
    "    y_batch    - вектор ответов\n",
    "    shuffle    - нужно ли случайно перемешивать выборку\n",
    "    batch_size - размер батча ( 1 это SGD, > 1 mini-batch GD)\n",
    "    Генерирует подвыборку для итерации спуска (X_batch, y_batch)\n",
    "    \"\"\"\n",
    "    check_array = np.zeros(X.shape[0])\n",
    "    check_sum = np.sum(check_array)\n",
    "    while check_sum < X.shape[0]:\n",
    "        new_ind = np.asarray(list(i for i in range(0, X.shape[0])))\n",
    "        if shuffle == True:\n",
    "            np.random.shuffle(new_ind)\n",
    "        batch_indices  = np.random.choice(new_ind, size = batch_size, replace = False)\n",
    "        check_array[batch_indices] = 1\n",
    "        X_batch = X[batch_indices, :]\n",
    "        y_batch = y[batch_indices]\n",
    "        check_sum = np.sum(check_array)\n",
    "        yield (X_batch, y_batch)"
   ]
  },
  {
   "cell_type": "code",
   "execution_count": 13,
   "metadata": {},
   "outputs": [],
   "source": [
    "#%%pycodestyle\n",
    "\n",
    "def sigmoid(x):\n",
    "    \"\"\"\n",
    "    Вычисляем значение сигмоида.\n",
    "    X - выход линейной модели\n",
    "    \"\"\"\n",
    "    sigm_value_x = 1/(1+np.exp(-x))\n",
    "    \n",
    "    return sigm_value_x\n",
    "\n",
    "\n",
    "from sklearn.base import BaseEstimator, ClassifierMixin\n",
    "\n",
    "class MySGDClassifier(BaseEstimator, ClassifierMixin):\n",
    "    \n",
    "    def __init__(self, batch_generator, C=1, alpha=0.01, max_epoch=10, model_type='lin_reg', batch_size = 1, shuffle = True, break_point = 0.5):\n",
    "        \"\"\"\n",
    "        batch_generator -- функция генератор, которой будем создавать батчи\n",
    "        C - коэф. регуляризации\n",
    "        alpha - скорость спуска\n",
    "        max_epoch - максимальное количество эпох\n",
    "        model_type - тим модели, lin_reg или log_reg\n",
    "        \"\"\"\n",
    "        \n",
    "        self.C = C\n",
    "        self.alpha = alpha\n",
    "        self.max_epoch = max_epoch\n",
    "        self.batch_generator = batch_generator\n",
    "        self.errors_log = {'iter' : [], 'loss' : []}  \n",
    "        self.model_type = model_type\n",
    "        self.batch_size = batch_size\n",
    "        self.shuffle = shuffle\n",
    "        self.break_point = break_point\n",
    "        \n",
    "    def calc_loss(self, X_batch, y_batch):\n",
    "        \"\"\"\n",
    "        Считаем функцию потерь по батчу \n",
    "        X_batch - матрица объекты-признаки по батчу\n",
    "        y_batch - вектор ответов по батчу\n",
    "        Не забудте тип модели (линейная или логистическая регрессия)!\n",
    "        \"\"\"\n",
    "        loss = 0\n",
    "        y_batch = y_batch.reshape(-1,1)\n",
    "        if self.model_type == 'lin_reg':\n",
    "            loss = np.sum(np.power(y_batch - np.dot(X_batch, self.weights),2))\n",
    "            loss /= X_batch.shape[0]\n",
    "        elif self.model_type == 'log_reg':\n",
    "            loss = np.sum((-y_batch + 1) * np.log(1 - sigmoid(np.dot(X_batch, self.weights))) + y_batch*np.log(sigmoid(np.dot(X_batch, self.weights))))\n",
    "            loss /= -X_batch.shape[0]\n",
    "        return loss + 1 / self.C * np.sum(np.asarray([0, *(np.ravel(self.weights[1:,:]))]) ** 2)\n",
    "    \n",
    "    def calc_loss_grad(self, X_batch, y_batch):\n",
    "        \"\"\"\n",
    "        Считаем  градиент функции потерь по батчу (то что Вы вывели в задании 1)\n",
    "        X_batch - матрица объекты-признаки по батчу\n",
    "        y_batch - вектор ответов по батчу\n",
    "        Не забудте тип модели (линейная или логистическая регрессия)!\n",
    "        \"\"\"\n",
    "        y_batch = y_batch.reshape(-1,1)\n",
    "        loss_grad = np.zeros(X_batch.shape[1]).reshape(-1, 1)\n",
    "        if self.model_type == 'lin_reg':\n",
    "            loss_grad  = X_batch.T.dot(np.dot(X_batch,self.weights) - y_batch)\n",
    "            loss_grad =  loss_grad * 2 / X_batch.shape[0]\n",
    "        elif self.model_type == 'log_reg':\n",
    "            loss_grad = np.dot(X_batch.T, y_batch - sigmoid(np.dot(X_batch, self.weights)))\n",
    "            loss_grad = -loss_grad / X_batch.shape[0]\n",
    "        return loss_grad + np.asarray(a = [0, *(np.ravel(self.weights[1:,:]))]).reshape(-1,1) * 2 / self.C\n",
    "    \n",
    "    def update_weights(self, new_grad):\n",
    "        \"\"\"\n",
    "        Обновляем вектор весов\n",
    "        new_grad - градиент по батчу\n",
    "        \"\"\"\n",
    "        self.weights = self.weights - self.alpha * new_grad\n",
    "        pass\n",
    "    \n",
    "    def fit(self, X, y):\n",
    "        '''\n",
    "        Обучение модели\n",
    "        X - матрица объекты-признаки\n",
    "        y - вектор ответов\n",
    "        '''\n",
    "        # Нужно инициализровать случайно веса\n",
    "        self.weights = np.random.randn(X.shape[1] + 1, 1)*0.5\n",
    "        #self.weights = np.ones(X.shape[1] + 1).reshape(-1,1)\n",
    "        for n in range(0, self.max_epoch):\n",
    "            new_epoch_generator = self.batch_generator(X,y, self.shuffle, self.batch_size)\n",
    "            for batch_num, new_batch in enumerate(new_epoch_generator):\n",
    "                X_batch = new_batch[0]\n",
    "                X_batch = np.hstack((np.ones(X_batch.shape[0]).reshape(-1,1),X_batch))\n",
    "                y_batch = new_batch[1]\n",
    "                batch_grad = self.calc_loss_grad(X_batch, y_batch)\n",
    "                self.update_weights(batch_grad)\n",
    "                batch_loss = self.calc_loss(X_batch, y_batch)\n",
    "                # Подумайте в каком месте стоит посчитать ошибку для отладки модели\n",
    "                # До градиентного шага или после\n",
    "                # batch_loss = self.calc_loss(X_batch, y_batch)\n",
    "                self.errors_log['iter'].append(batch_num)\n",
    "                self.errors_log['loss'].append(batch_loss)\n",
    "                \n",
    "        return self\n",
    "        \n",
    "    def predict(self, X):\n",
    "        '''\n",
    "        Предсказание класса\n",
    "        X - матрица объекты-признаки\n",
    "        Не забудте тип модели (линейная или логистическая регрессия)!\n",
    "        '''\n",
    "        X = np.hstack((np.ones(X.shape[0]).reshape(-1,1),X))\n",
    "        y = np.zeros(X.shape[0])\n",
    "        np.hstack(X, )\n",
    "        if self.model_type == 'lin_reg':\n",
    "            for i in range(0, X.shape[0]):\n",
    "                res = np.dot(X[i].reshape(1,-1), self.weights)\n",
    "                if res > self.break_point:\n",
    "                    y[i] = 1\n",
    "        elif self.model_type == 'log_reg':\n",
    "            for i in range(0, X.shape[0]):\n",
    "                res = np.dot(X[i].reshape(1,-1), self.weights)\n",
    "                res = sigmoid(res) - self.break_point\n",
    "                if res > 0:\n",
    "                    y[i] = 1\n",
    "        # Желательно здесь использовать матричные операции между X и весами, например, numpy.dot \n",
    "        y_hat = y\n",
    "        return y_hat"
   ]
  },
  {
   "cell_type": "markdown",
   "metadata": {},
   "source": [
    "Запустите обе регрессии на синтетических данных. \n",
    "\n",
    "\n",
    "Выведите полученные веса и нарисуйте разделяющую границу между классами (используйте только первых два веса для первых двух признаков X[:,0], X[:,1] для отображения в 2d пространство ).  "
   ]
  },
  {
   "cell_type": "code",
   "execution_count": 3,
   "metadata": {},
   "outputs": [],
   "source": [
    "def plot_decision_boundary(clf, X, y):\n",
    "    x = np.linspace(-4,8,7)\n",
    "    y = (- x * clf.weights[1] - clf.weights[0]) / clf.weights[2]\n",
    "    plt.axis([-5,12,-6,8])\n",
    "    plt.plot(x, y)\n",
    "    pass"
   ]
  },
  {
   "cell_type": "code",
   "execution_count": 163,
   "metadata": {},
   "outputs": [
    {
     "name": "stdout",
     "output_type": "stream",
     "text": [
      "[[-2.62537645]\n",
      " [ 0.69452199]\n",
      " [-0.45183252]]\n",
      "[[-0.09071068]\n",
      " [ 0.1388871 ]\n",
      " [-0.15129069]]\n"
     ]
    },
    {
     "data": {
      "text/plain": [
       "<matplotlib.collections.PathCollection at 0x11f6ec050>"
      ]
     },
     "execution_count": 163,
     "metadata": {},
     "output_type": "execute_result"
    },
    {
     "data": {
      "image/png": "[encoded data removed]",
      "text/plain": [
       "<Figure size 864x360 with 1 Axes>"
      ]
     },
     "metadata": {},
     "output_type": "display_data"
    }
   ],
   "source": [
    "np.random.seed(0)\n",
    "\n",
    "C1 = np.array([[0., -0.8], [1.5, 0.8]])\n",
    "C2 = np.array([[1., -0.7], [2., 0.7]])\n",
    "gauss1 = np.dot(np.random.randn(200, 2) + np.array([5, 3]), C1)\n",
    "gauss2 = np.dot(np.random.randn(200, 2) + np.array([1.5, 0]), C2)\n",
    "\n",
    "X = np.vstack([gauss1, gauss2])\n",
    "y = np.r_[np.ones(200), np.zeros(200)]\n",
    "\n",
    "\n",
    "my_clf = MySGDClassifier(batch_generator, 10, 0.01, 200, 'log_reg', 30, True, 0.5)\n",
    "my_clf.fit(X,y)\n",
    "print(my_clf.weights)\n",
    "plot_decision_boundary(my_clf, X, y)\n",
    "\n",
    "my_clf = MySGDClassifier(batch_generator, 10, 0.01, 200, 'lin_reg', 30, True, 0.5)\n",
    "my_clf.fit(X,y)\n",
    "print(my_clf.weights)\n",
    "plot_decision_boundary(my_clf, X, y)\n",
    "\n",
    "plt.scatter(X[:,0], X[:,1], c=y)"
   ]
  },
  {
   "cell_type": "markdown",
   "metadata": {},
   "source": [
    "Далее будем анализировать Ваш алгоритм. \n",
    "Для этих заданий используйте датасет ниже."
   ]
  },
  {
   "cell_type": "code",
   "execution_count": 4,
   "metadata": {},
   "outputs": [],
   "source": [
    "from sklearn.datasets import make_classification"
   ]
  },
  {
   "cell_type": "code",
   "execution_count": 5,
   "metadata": {},
   "outputs": [],
   "source": [
    "X, y = make_classification(n_samples=100000, n_features=10, \n",
    "                           n_informative=4, n_redundant=0, \n",
    "                           random_state=123, class_sep=1.0,\n",
    "                           n_clusters_per_class=1)"
   ]
  },
  {
   "cell_type": "markdown",
   "metadata": {},
   "source": [
    "Покажите сходимости обеих регрессией на этом датасете: изобразите график  функции потерь, усредненной по $N$ шагам градиентого спуска, для разных `alpha` (размеров шага). Разные `alpha` расположите на одном графике. \n",
    "\n",
    "$N$ можно брать 10, 50, 100 и т.д. "
   ]
  },
  {
   "cell_type": "code",
   "execution_count": 169,
   "metadata": {},
   "outputs": [
    {
     "data": {
      "text/plain": [
       "<matplotlib.legend.Legend at 0x11f113c10>"
      ]
     },
     "execution_count": 169,
     "metadata": {},
     "output_type": "execute_result"
    },
    {
     "data": {
      "image/png": "[encoded data removed]",
      "text/plain": [
       "<Figure size 864x360 with 1 Axes>"
      ]
     },
     "metadata": {},
     "output_type": "display_data"
    }
   ],
   "source": [
    "# Lin_reg\n",
    "alphas = [0.0001, 0.0005, 0.001, 0.005, 0.01, 0.05]\n",
    "colors = [\"black\", \"g\", \"navy\", \"magenta\", \"pink\", \"orange\", \"red\" ]\n",
    "for i in alphas:\n",
    "    my_clf = MySGDClassifier(batch_generator, C = 200, alpha = i, max_epoch = 200,\n",
    "                             model_type = 'lin_reg', batch_size = 30, \n",
    "                             shuffle = True, break_point = 0.5)\n",
    "    my_clf.fit(X,y)\n",
    "    N = {'num':[],'mean':[]}\n",
    "    for j in range(100,np.size(my_clf.errors_log['iter']),100):\n",
    "        N['num'].append(j)\n",
    "        N['mean'].append(np.mean(my_clf.errors_log['loss'][:j]))\n",
    "    plt.plot(N['num'],N['mean'],label = \"alpha = \" + str(i))\n",
    "plt.legend()\n"
   ]
  },
  {
   "cell_type": "code",
   "execution_count": 111,
   "metadata": {},
   "outputs": [
    {
     "data": {
      "text/plain": [
       "<matplotlib.legend.Legend at 0x11efa9b10>"
      ]
     },
     "execution_count": 111,
     "metadata": {},
     "output_type": "execute_result"
    },
    {
     "data": {
      "image/png": "[encoded data removed]",
      "text/plain": [
       "<Figure size 864x360 with 1 Axes>"
      ]
     },
     "metadata": {},
     "output_type": "display_data"
    }
   ],
   "source": [
    "#Log_reg\n",
    "alphas = [0.0001, 0.0005, 0.001, 0.005, 0.01, 0.05]\n",
    "for i in alphas:\n",
    "    my_clf = MySGDClassifier(batch_generator, C = 200, alpha = i, max_epoch = 200,\n",
    "                             model_type = 'log_reg', batch_size = 30, \n",
    "                             shuffle = True, break_point = 0.5)\n",
    "    my_clf.fit(X,y)\n",
    "    N = {'num':[],'mean':[]}\n",
    "    for j in range(100,np.size(my_clf.errors_log['iter']),100):\n",
    "        N['num'].append(j)\n",
    "        N['mean'].append(np.mean(my_clf.errors_log['loss'][:j]))\n",
    "    plt.plot(N['num'],N['mean'],label = \"alpha = \" + str(i))\n",
    "plt.legend()"
   ]
  },
  {
   "cell_type": "markdown",
   "metadata": {},
   "source": [
    "Что Вы можете сказать про сходимость метода при различных `alpha`? Какое значение стоит выбирать для лучшей сходимости?"
   ]
  },
  {
   "cell_type": "markdown",
   "metadata": {},
   "source": [
    "Изобразите график среднего значения весов для обеих регрессий в зависимости от коеф. регуляризации С из `np.logspace(3, -3, 10)` "
   ]
  },
  {
   "cell_type": "code",
   "execution_count": 172,
   "metadata": {
    "scrolled": true
   },
   "outputs": [
    {
     "name": "stderr",
     "output_type": "stream",
     "text": [
      "/Users/aleksandr/miniconda3/envs/env/lib/python3.7/site-packages/ipykernel_launcher.py:54: RuntimeWarning: divide by zero encountered in log\n",
      "/Users/aleksandr/miniconda3/envs/env/lib/python3.7/site-packages/ipykernel_launcher.py:54: RuntimeWarning: invalid value encountered in multiply\n",
      "/Users/aleksandr/miniconda3/envs/env/lib/python3.7/site-packages/ipykernel_launcher.py:8: RuntimeWarning: overflow encountered in exp\n",
      "  \n",
      "/Users/aleksandr/miniconda3/envs/env/lib/python3.7/site-packages/ipykernel_launcher.py:56: RuntimeWarning: overflow encountered in double_scalars\n",
      "/Users/aleksandr/miniconda3/envs/env/lib/python3.7/site-packages/ipykernel_launcher.py:56: RuntimeWarning: overflow encountered in square\n",
      "/Users/aleksandr/miniconda3/envs/env/lib/python3.7/site-packages/ipykernel_launcher.py:77: RuntimeWarning: overflow encountered in true_divide\n",
      "/Users/aleksandr/miniconda3/envs/env/lib/python3.7/site-packages/ipykernel_launcher.py:84: RuntimeWarning: invalid value encountered in subtract\n",
      "/Users/aleksandr/miniconda3/envs/env/lib/python3.7/site-packages/numpy/core/fromnumeric.py:87: RuntimeWarning: overflow encountered in reduce\n",
      "  return ufunc.reduce(obj, axis, dtype, out, **passkwargs)\n",
      "/Users/aleksandr/miniconda3/envs/env/lib/python3.7/site-packages/ipykernel_launcher.py:48: RuntimeWarning: overflow encountered in power\n",
      "/Users/aleksandr/miniconda3/envs/env/lib/python3.7/site-packages/ipykernel_launcher.py:56: RuntimeWarning: overflow encountered in double_scalars\n",
      "/Users/aleksandr/miniconda3/envs/env/lib/python3.7/site-packages/ipykernel_launcher.py:56: RuntimeWarning: overflow encountered in square\n",
      "/Users/aleksandr/miniconda3/envs/env/lib/python3.7/site-packages/ipykernel_launcher.py:71: RuntimeWarning: overflow encountered in multiply\n",
      "/Users/aleksandr/miniconda3/envs/env/lib/python3.7/site-packages/ipykernel_launcher.py:84: RuntimeWarning: invalid value encountered in subtract\n",
      "/Users/aleksandr/miniconda3/envs/env/lib/python3.7/site-packages/ipykernel_launcher.py:77: RuntimeWarning: overflow encountered in true_divide\n"
     ]
    },
    {
     "data": {
      "text/plain": [
       "<matplotlib.legend.Legend at 0x121045390>"
      ]
     },
     "execution_count": 172,
     "metadata": {},
     "output_type": "execute_result"
    },
    {
     "data": {
      "image/png": "[encoded data removed]",
      "text/plain": [
       "<Figure size 864x360 with 1 Axes>"
      ]
     },
     "metadata": {},
     "output_type": "display_data"
    }
   ],
   "source": [
    "plot_list = {'coeff':[], 'w_mean':[]}\n",
    "for i in np.logspace(3, -3, 10):\n",
    "    my_clf = MySGDClassifier(batch_generator, C = i, alpha = 0.05, max_epoch = 100,\n",
    "                             model_type = 'log_reg', batch_size = 100, \n",
    "                             shuffle = True, break_point = 0.5)\n",
    "    my_clf.fit(X,y)\n",
    "    plot_list['coeff'].append(i)\n",
    "    plot_list['w_mean'].append(np.mean(my_clf.weights))\n",
    "plt.plot(np.logspace(3,-3,10), plot_list['w_mean'], label = \"log_reg\")\n",
    "plot_list = {'coeff':[], 'w_mean':[]}\n",
    "\n",
    "for i in np.logspace(3, -3, 10):\n",
    "    my_clf = MySGDClassifier(batch_generator, C = i, alpha = 0.05, max_epoch = 100,\n",
    "                             model_type = 'lin_reg', batch_size = 100, \n",
    "                             shuffle = True, break_point = 0.5)\n",
    "    my_clf.fit(X,y)\n",
    "    plot_list['coeff'].append(i)\n",
    "    plot_list['w_mean'].append(np.mean(my_clf.weights))\n",
    "plt.plot(np.logspace(3,-3,10), plot_list['w_mean'], label = \"lin_reg\")\n",
    "plt.legend()"
   ]
  },
  {
   "cell_type": "markdown",
   "metadata": {},
   "source": [
    "Довольны ли Вы, насколько сильно уменьшились Ваши веса? "
   ]
  },
  {
   "cell_type": "markdown",
   "metadata": {},
   "source": [
    "# Боевое применение (4  балла)\n",
    "\n",
    "**Защита данной части возможна только при преодолении в проекте бейзлайна Handmade baseline.**"
   ]
  },
  {
   "cell_type": "markdown",
   "metadata": {},
   "source": [
    "Давайте применим модель на итоговом проекте! Датасет сделаем точно таким же образом, как было показано в project_overview.ipynb\n",
    "\n",
    "Применим обе регрессии, подберем для них параметры и сравним качество. Может быть Вы еще одновременно с решением домашней работы подрастете на лидерборде!"
   ]
  },
  {
   "cell_type": "code",
   "execution_count": 34,
   "metadata": {},
   "outputs": [
    {
     "name": "stdout",
     "output_type": "stream",
     "text": [
      "28026\n"
     ]
    }
   ],
   "source": [
    "doc_to_title = {}\n",
    "with open('docs_titles.tsv') as f:\n",
    "    for num_line, line in enumerate(f):\n",
    "        if num_line == 0:\n",
    "            continue\n",
    "        data = line.strip().split('\\t', 1)\n",
    "        doc_id = int(data[0])\n",
    "        if len(data) == 1:\n",
    "            title = ''\n",
    "        else:\n",
    "            title = data[1]\n",
    "        doc_to_title[doc_id] = title\n",
    "print (len(doc_to_title))\n"
   ]
  },
  {
   "cell_type": "code",
   "execution_count": 35,
   "metadata": {},
   "outputs": [],
   "source": [
    "import pandas as pd\n",
    "train_data = pd.read_csv('train_groups.csv')\n",
    "traingroups_titledata = {}\n",
    "for i in range(len(train_data)):\n",
    "    new_doc = train_data.iloc[i]\n",
    "    doc_group = new_doc['group_id']\n",
    "    doc_id = new_doc['doc_id']\n",
    "    target = new_doc['target']\n",
    "    title = doc_to_title[doc_id]\n",
    "    if doc_group not in traingroups_titledata:\n",
    "        traingroups_titledata[doc_group] = []\n",
    "    traingroups_titledata[doc_group].append((doc_id, title, target))"
   ]
  },
  {
   "cell_type": "code",
   "execution_count": 36,
   "metadata": {},
   "outputs": [
    {
     "name": "stdout",
     "output_type": "stream",
     "text": [
      "(11690, 15) (11690,) (11690,)\n"
     ]
    }
   ],
   "source": [
    "import numpy as np\n",
    "y_train = []\n",
    "X_train = []\n",
    "groups_train = []\n",
    "for new_group in traingroups_titledata:\n",
    "    docs = traingroups_titledata[new_group]\n",
    "    for k, (doc_id, title, target_id) in enumerate(docs):\n",
    "        y_train.append(target_id)\n",
    "        groups_train.append(new_group)\n",
    "        all_dist = []\n",
    "        words = set(title.strip().split())\n",
    "        for j in range(0, len(docs)):\n",
    "            if k == j:\n",
    "                continue\n",
    "            doc_id_j, title_j, target_j = docs[j]\n",
    "            words_j = set(title_j.strip().split())\n",
    "            all_dist.append(len(words.intersection(words_j)))\n",
    "        X_train.append(sorted(all_dist, reverse=True)[0:15]    )\n",
    "X_train = np.array(X_train)\n",
    "y_train = np.array(y_train)\n",
    "groups_train = np.array(groups_train)\n",
    "print (X_train.shape, y_train.shape, groups_train.shape)"
   ]
  },
  {
   "cell_type": "markdown",
   "metadata": {},
   "source": [
    "Подберите размер батча для обучения. Линейная модель не должна учиться дольше нескольких минут. \n",
    "\n",
    "Не забывайте использовать скейлер!"
   ]
  },
  {
   "cell_type": "code",
   "execution_count": 9,
   "metadata": {},
   "outputs": [],
   "source": [
    "from sklearn.metrics import f1_score\n",
    "from sklearn.linear_model import LinearRegression\n",
    "from sklearn.preprocessing import StandardScaler"
   ]
  },
  {
   "cell_type": "code",
   "execution_count": 10,
   "metadata": {},
   "outputs": [],
   "source": [
    "from sklearn.model_selection import KFold"
   ]
  },
  {
   "cell_type": "markdown",
   "metadata": {},
   "source": [
    "Разбейте данные на обучение и валидацию. Подберите параметры C, alpha, max_epoch, model_type на валидации (Вы же помните, как правильно в этой задаче делать валидацию?)"
   ]
  },
  {
   "cell_type": "code",
   "execution_count": 66,
   "metadata": {
    "scrolled": true
   },
   "outputs": [
    {
     "name": "stdout",
     "output_type": "stream",
     "text": [
      "Fit finished\n",
      "Fit finished\n",
      "Fit finished\n",
      "C = 10,m_type = log_reg, epoch = 25,alpha = 0.001\n",
      "0.5008325508308048\n",
      "Fit finished\n",
      "Fit finished\n",
      "Fit finished\n",
      "C = 10,m_type = log_reg, epoch = 50,alpha = 0.001\n",
      "0.5075894103702353\n",
      "Fit finished\n",
      "Fit finished\n",
      "Fit finished\n",
      "C = 10,m_type = log_reg, epoch = 75,alpha = 0.001\n",
      "0.5089168833808736\n",
      "Fit finished\n",
      "Fit finished\n",
      "Fit finished\n",
      "C = 10,m_type = log_reg, epoch = 100,alpha = 0.001\n",
      "0.5094999070213317\n",
      "Fit finished\n",
      "Fit finished\n",
      "Fit finished\n",
      "C = 50,m_type = log_reg, epoch = 25,alpha = 0.001\n",
      "0.4987695200483191\n",
      "Fit finished\n",
      "Fit finished\n",
      "Fit finished\n",
      "C = 50,m_type = log_reg, epoch = 50,alpha = 0.001\n",
      "0.5039540002966071\n",
      "Fit finished\n",
      "Fit finished\n",
      "Fit finished\n",
      "C = 50,m_type = log_reg, epoch = 75,alpha = 0.001\n",
      "0.5100991038114531\n",
      "Fit finished\n",
      "Fit finished\n",
      "Fit finished\n",
      "C = 50,m_type = log_reg, epoch = 100,alpha = 0.001\n",
      "0.5079923374966323\n",
      "Fit finished\n",
      "Fit finished\n",
      "Fit finished\n",
      "C = 100,m_type = log_reg, epoch = 25,alpha = 0.001\n",
      "0.5012217507254605\n",
      "Fit finished\n",
      "Fit finished\n",
      "Fit finished\n",
      "C = 100,m_type = log_reg, epoch = 50,alpha = 0.001\n",
      "0.5164244241382209\n",
      "Fit finished\n",
      "Fit finished\n",
      "Fit finished\n",
      "C = 100,m_type = log_reg, epoch = 75,alpha = 0.001\n",
      "0.517168193882385\n",
      "Fit finished\n",
      "Fit finished\n",
      "Fit finished\n",
      "C = 100,m_type = log_reg, epoch = 100,alpha = 0.001\n",
      "0.5063875688308052\n",
      "Fit finished\n",
      "Fit finished\n",
      "Fit finished\n",
      "C = 150,m_type = log_reg, epoch = 25,alpha = 0.001\n",
      "0.5003238473215991\n",
      "Fit finished\n",
      "Fit finished\n",
      "Fit finished\n",
      "C = 150,m_type = log_reg, epoch = 50,alpha = 0.001\n",
      "0.5078712401636233\n",
      "Fit finished\n",
      "Fit finished\n",
      "Fit finished\n",
      "C = 150,m_type = log_reg, epoch = 75,alpha = 0.001\n",
      "0.5101564648214878\n",
      "Fit finished\n",
      "Fit finished\n",
      "Fit finished\n",
      "C = 150,m_type = log_reg, epoch = 100,alpha = 0.001\n",
      "0.5107122901064389\n",
      "Fit finished\n",
      "Fit finished\n",
      "Fit finished\n",
      "C = 200,m_type = log_reg, epoch = 25,alpha = 0.001\n",
      "0.506641916352483\n",
      "Fit finished\n",
      "Fit finished\n",
      "Fit finished\n",
      "C = 200,m_type = log_reg, epoch = 50,alpha = 0.001\n",
      "0.5152917305093887\n",
      "Fit finished\n",
      "Fit finished\n",
      "Fit finished\n",
      "C = 200,m_type = log_reg, epoch = 75,alpha = 0.001\n",
      "0.5101988986759806\n",
      "Fit finished\n",
      "Fit finished\n",
      "Fit finished\n",
      "C = 200,m_type = log_reg, epoch = 100,alpha = 0.001\n",
      "0.5062844826369591\n",
      "Fit finished\n",
      "Fit finished\n",
      "Fit finished\n",
      "C = 10,m_type = lin_reg, epoch = 25,alpha = 0.001\n",
      "0.5131621540352205\n",
      "Fit finished\n",
      "Fit finished\n",
      "Fit finished\n",
      "C = 10,m_type = lin_reg, epoch = 50,alpha = 0.001\n",
      "0.5203952095423096\n",
      "Fit finished\n",
      "Fit finished\n",
      "Fit finished\n",
      "C = 10,m_type = lin_reg, epoch = 75,alpha = 0.001\n",
      "0.5234340961515768\n",
      "Fit finished\n",
      "Fit finished\n",
      "Fit finished\n",
      "C = 10,m_type = lin_reg, epoch = 100,alpha = 0.001\n",
      "0.5205200706389979\n",
      "Fit finished\n",
      "Fit finished\n",
      "Fit finished\n",
      "C = 50,m_type = lin_reg, epoch = 25,alpha = 0.001\n",
      "0.5182136948814232\n",
      "Fit finished\n",
      "Fit finished\n",
      "Fit finished\n",
      "C = 50,m_type = lin_reg, epoch = 50,alpha = 0.001\n",
      "0.5249992017661805\n",
      "Fit finished\n",
      "Fit finished\n",
      "Fit finished\n",
      "C = 50,m_type = lin_reg, epoch = 75,alpha = 0.001\n",
      "0.5368860741377423\n",
      "Fit finished\n",
      "Fit finished\n",
      "Fit finished\n",
      "C = 50,m_type = lin_reg, epoch = 100,alpha = 0.001\n",
      "0.5215829222053178\n",
      "Fit finished\n",
      "Fit finished\n",
      "Fit finished\n",
      "C = 100,m_type = lin_reg, epoch = 25,alpha = 0.001\n",
      "0.5264914359854278\n",
      "Fit finished\n",
      "Fit finished\n",
      "Fit finished\n",
      "C = 100,m_type = lin_reg, epoch = 50,alpha = 0.001\n",
      "0.5218026422085162\n",
      "Fit finished\n",
      "Fit finished\n",
      "Fit finished\n",
      "C = 100,m_type = lin_reg, epoch = 75,alpha = 0.001\n",
      "0.5249408160408473\n",
      "Fit finished\n",
      "Fit finished\n",
      "Fit finished\n",
      "C = 100,m_type = lin_reg, epoch = 100,alpha = 0.001\n",
      "0.5259643637651252\n",
      "Fit finished\n",
      "Fit finished\n",
      "Fit finished\n",
      "C = 150,m_type = lin_reg, epoch = 25,alpha = 0.001\n",
      "0.5121544155635845\n",
      "Fit finished\n",
      "Fit finished\n",
      "Fit finished\n",
      "C = 150,m_type = lin_reg, epoch = 50,alpha = 0.001\n",
      "0.5227889717946812\n",
      "Fit finished\n",
      "Fit finished\n",
      "Fit finished\n",
      "C = 150,m_type = lin_reg, epoch = 75,alpha = 0.001\n",
      "0.5242166929552363\n",
      "Fit finished\n",
      "Fit finished\n",
      "Fit finished\n",
      "C = 150,m_type = lin_reg, epoch = 100,alpha = 0.001\n",
      "0.5232916891822311\n",
      "Fit finished\n",
      "Fit finished\n",
      "Fit finished\n",
      "C = 200,m_type = lin_reg, epoch = 25,alpha = 0.001\n",
      "0.516299247532806\n",
      "Fit finished\n",
      "Fit finished\n",
      "Fit finished\n",
      "C = 200,m_type = lin_reg, epoch = 50,alpha = 0.001\n",
      "0.5222330548561568\n",
      "Fit finished\n",
      "Fit finished\n",
      "Fit finished\n",
      "C = 200,m_type = lin_reg, epoch = 75,alpha = 0.001\n",
      "0.521880330091281\n",
      "Fit finished\n",
      "Fit finished\n",
      "Fit finished\n",
      "C = 200,m_type = lin_reg, epoch = 100,alpha = 0.001\n",
      "0.5219729830308267\n",
      "Fit finished\n",
      "Fit finished\n",
      "Fit finished\n",
      "C = 10,m_type = log_reg, epoch = 25,alpha = 0.005\n",
      "0.5096513000097084\n",
      "Fit finished\n",
      "Fit finished\n",
      "Fit finished\n",
      "C = 10,m_type = log_reg, epoch = 50,alpha = 0.005\n",
      "0.5091616535360602\n",
      "Fit finished\n",
      "Fit finished\n",
      "Fit finished\n",
      "C = 10,m_type = log_reg, epoch = 75,alpha = 0.005\n",
      "0.5089206003128756\n",
      "Fit finished\n",
      "Fit finished\n",
      "Fit finished\n",
      "C = 10,m_type = log_reg, epoch = 100,alpha = 0.005\n",
      "0.5091460837087194\n",
      "Fit finished\n",
      "Fit finished\n",
      "Fit finished\n",
      "C = 50,m_type = log_reg, epoch = 25,alpha = 0.005\n",
      "0.5083389622695248\n",
      "Fit finished\n",
      "Fit finished\n",
      "Fit finished\n",
      "C = 50,m_type = log_reg, epoch = 50,alpha = 0.005\n",
      "0.5075699541073843\n",
      "Fit finished\n",
      "Fit finished\n",
      "Fit finished\n",
      "C = 50,m_type = log_reg, epoch = 75,alpha = 0.005\n",
      "0.5095275959149045\n",
      "Fit finished\n",
      "Fit finished\n",
      "Fit finished\n",
      "C = 50,m_type = log_reg, epoch = 100,alpha = 0.005\n",
      "0.507417667601309\n",
      "Fit finished\n",
      "Fit finished\n",
      "Fit finished\n",
      "C = 100,m_type = log_reg, epoch = 25,alpha = 0.005\n",
      "0.5051703850327869\n",
      "Fit finished\n",
      "Fit finished\n",
      "Fit finished\n",
      "C = 100,m_type = log_reg, epoch = 50,alpha = 0.005\n",
      "0.5084327731889277\n"
     ]
    },
    {
     "ename": "KeyboardInterrupt",
     "evalue": "",
     "output_type": "error",
     "traceback": [
      "\u001b[0;31m---------------------------------------------------------------------------\u001b[0m",
      "\u001b[0;31mKeyboardInterrupt\u001b[0m                         Traceback (most recent call last)",
      "\u001b[0;32m<ipython-input-66-6a6710b84c2b>\u001b[0m in \u001b[0;36m<module>\u001b[0;34m\u001b[0m\n\u001b[1;32m     20\u001b[0m                     \u001b[0my_tst\u001b[0m  \u001b[0;34m=\u001b[0m \u001b[0my_train\u001b[0m\u001b[0;34m[\u001b[0m\u001b[0mtest_index\u001b[0m\u001b[0;34m]\u001b[0m\u001b[0;34m\u001b[0m\u001b[0;34m\u001b[0m\u001b[0m\n\u001b[1;32m     21\u001b[0m                     \u001b[0mX_tr\u001b[0m \u001b[0;34m=\u001b[0m \u001b[0;34m(\u001b[0m\u001b[0mX_tr\u001b[0m \u001b[0;34m-\u001b[0m \u001b[0mnp\u001b[0m\u001b[0;34m.\u001b[0m\u001b[0mmean\u001b[0m\u001b[0;34m(\u001b[0m\u001b[0mX_tr\u001b[0m\u001b[0;34m,\u001b[0m \u001b[0maxis\u001b[0m \u001b[0;34m=\u001b[0m \u001b[0;36m0\u001b[0m\u001b[0;34m)\u001b[0m\u001b[0;34m)\u001b[0m \u001b[0;34m/\u001b[0m \u001b[0mnp\u001b[0m\u001b[0;34m.\u001b[0m\u001b[0mstd\u001b[0m\u001b[0;34m(\u001b[0m\u001b[0mX_tr\u001b[0m\u001b[0;34m,\u001b[0m \u001b[0maxis\u001b[0m \u001b[0;34m=\u001b[0m \u001b[0;36m0\u001b[0m\u001b[0;34m)\u001b[0m\u001b[0;34m\u001b[0m\u001b[0;34m\u001b[0m\u001b[0m\n\u001b[0;32m---> 22\u001b[0;31m                     \u001b[0mmy_clf\u001b[0m\u001b[0;34m.\u001b[0m\u001b[0mfit\u001b[0m\u001b[0;34m(\u001b[0m\u001b[0mX_tr\u001b[0m\u001b[0;34m,\u001b[0m \u001b[0my_tr\u001b[0m\u001b[0;34m)\u001b[0m\u001b[0;34m\u001b[0m\u001b[0;34m\u001b[0m\u001b[0m\n\u001b[0m\u001b[1;32m     23\u001b[0m                     \u001b[0mprint\u001b[0m\u001b[0;34m(\u001b[0m\u001b[0;34m'Fit finished'\u001b[0m\u001b[0;34m)\u001b[0m\u001b[0;34m\u001b[0m\u001b[0;34m\u001b[0m\u001b[0m\n\u001b[1;32m     24\u001b[0m                     \u001b[0mret\u001b[0m \u001b[0;34m=\u001b[0m \u001b[0mmy_clf\u001b[0m\u001b[0;34m.\u001b[0m\u001b[0mpredict\u001b[0m\u001b[0;34m(\u001b[0m\u001b[0mX_tst\u001b[0m\u001b[0;34m)\u001b[0m\u001b[0;34m\u001b[0m\u001b[0;34m\u001b[0m\u001b[0m\n",
      "\u001b[0;32m<ipython-input-13-2f80d7ca2a27>\u001b[0m in \u001b[0;36mfit\u001b[0;34m(self, X, y)\u001b[0m\n\u001b[1;32m     96\u001b[0m         \u001b[0;32mfor\u001b[0m \u001b[0mn\u001b[0m \u001b[0;32min\u001b[0m \u001b[0mrange\u001b[0m\u001b[0;34m(\u001b[0m\u001b[0;36m0\u001b[0m\u001b[0;34m,\u001b[0m \u001b[0mself\u001b[0m\u001b[0;34m.\u001b[0m\u001b[0mmax_epoch\u001b[0m\u001b[0;34m)\u001b[0m\u001b[0;34m:\u001b[0m\u001b[0;34m\u001b[0m\u001b[0;34m\u001b[0m\u001b[0m\n\u001b[1;32m     97\u001b[0m             \u001b[0mnew_epoch_generator\u001b[0m \u001b[0;34m=\u001b[0m \u001b[0mself\u001b[0m\u001b[0;34m.\u001b[0m\u001b[0mbatch_generator\u001b[0m\u001b[0;34m(\u001b[0m\u001b[0mX\u001b[0m\u001b[0;34m,\u001b[0m\u001b[0my\u001b[0m\u001b[0;34m,\u001b[0m \u001b[0mself\u001b[0m\u001b[0;34m.\u001b[0m\u001b[0mshuffle\u001b[0m\u001b[0;34m,\u001b[0m \u001b[0mself\u001b[0m\u001b[0;34m.\u001b[0m\u001b[0mbatch_size\u001b[0m\u001b[0;34m)\u001b[0m\u001b[0;34m\u001b[0m\u001b[0;34m\u001b[0m\u001b[0m\n\u001b[0;32m---> 98\u001b[0;31m             \u001b[0;32mfor\u001b[0m \u001b[0mbatch_num\u001b[0m\u001b[0;34m,\u001b[0m \u001b[0mnew_batch\u001b[0m \u001b[0;32min\u001b[0m \u001b[0menumerate\u001b[0m\u001b[0;34m(\u001b[0m\u001b[0mnew_epoch_generator\u001b[0m\u001b[0;34m)\u001b[0m\u001b[0;34m:\u001b[0m\u001b[0;34m\u001b[0m\u001b[0;34m\u001b[0m\u001b[0m\n\u001b[0m\u001b[1;32m     99\u001b[0m                 \u001b[0mX_batch\u001b[0m \u001b[0;34m=\u001b[0m \u001b[0mnew_batch\u001b[0m\u001b[0;34m[\u001b[0m\u001b[0;36m0\u001b[0m\u001b[0;34m]\u001b[0m\u001b[0;34m\u001b[0m\u001b[0;34m\u001b[0m\u001b[0m\n\u001b[1;32m    100\u001b[0m                 \u001b[0mX_batch\u001b[0m \u001b[0;34m=\u001b[0m \u001b[0mnp\u001b[0m\u001b[0;34m.\u001b[0m\u001b[0mhstack\u001b[0m\u001b[0;34m(\u001b[0m\u001b[0;34m(\u001b[0m\u001b[0mnp\u001b[0m\u001b[0;34m.\u001b[0m\u001b[0mones\u001b[0m\u001b[0;34m(\u001b[0m\u001b[0mX_batch\u001b[0m\u001b[0;34m.\u001b[0m\u001b[0mshape\u001b[0m\u001b[0;34m[\u001b[0m\u001b[0;36m0\u001b[0m\u001b[0;34m]\u001b[0m\u001b[0;34m)\u001b[0m\u001b[0;34m.\u001b[0m\u001b[0mreshape\u001b[0m\u001b[0;34m(\u001b[0m\u001b[0;34m-\u001b[0m\u001b[0;36m1\u001b[0m\u001b[0;34m,\u001b[0m\u001b[0;36m1\u001b[0m\u001b[0;34m)\u001b[0m\u001b[0;34m,\u001b[0m\u001b[0mX_batch\u001b[0m\u001b[0;34m)\u001b[0m\u001b[0;34m)\u001b[0m\u001b[0;34m\u001b[0m\u001b[0;34m\u001b[0m\u001b[0m\n",
      "\u001b[0;32m<ipython-input-12-dfe5238ed18a>\u001b[0m in \u001b[0;36mbatch_generator\u001b[0;34m(X, y, shuffle, batch_size)\u001b[0m\n\u001b[1;32m     11\u001b[0m     \u001b[0mcheck_sum\u001b[0m \u001b[0;34m=\u001b[0m \u001b[0mnp\u001b[0m\u001b[0;34m.\u001b[0m\u001b[0msum\u001b[0m\u001b[0;34m(\u001b[0m\u001b[0mcheck_array\u001b[0m\u001b[0;34m)\u001b[0m\u001b[0;34m\u001b[0m\u001b[0;34m\u001b[0m\u001b[0m\n\u001b[1;32m     12\u001b[0m     \u001b[0;32mwhile\u001b[0m \u001b[0mcheck_sum\u001b[0m \u001b[0;34m<\u001b[0m \u001b[0mX\u001b[0m\u001b[0;34m.\u001b[0m\u001b[0mshape\u001b[0m\u001b[0;34m[\u001b[0m\u001b[0;36m0\u001b[0m\u001b[0;34m]\u001b[0m\u001b[0;34m:\u001b[0m\u001b[0;34m\u001b[0m\u001b[0;34m\u001b[0m\u001b[0m\n\u001b[0;32m---> 13\u001b[0;31m         \u001b[0mnew_ind\u001b[0m \u001b[0;34m=\u001b[0m \u001b[0mnp\u001b[0m\u001b[0;34m.\u001b[0m\u001b[0masarray\u001b[0m\u001b[0;34m(\u001b[0m\u001b[0mlist\u001b[0m\u001b[0;34m(\u001b[0m\u001b[0mi\u001b[0m \u001b[0;32mfor\u001b[0m \u001b[0mi\u001b[0m \u001b[0;32min\u001b[0m \u001b[0mrange\u001b[0m\u001b[0;34m(\u001b[0m\u001b[0;36m0\u001b[0m\u001b[0;34m,\u001b[0m \u001b[0mX\u001b[0m\u001b[0;34m.\u001b[0m\u001b[0mshape\u001b[0m\u001b[0;34m[\u001b[0m\u001b[0;36m0\u001b[0m\u001b[0;34m]\u001b[0m\u001b[0;34m)\u001b[0m\u001b[0;34m)\u001b[0m\u001b[0;34m)\u001b[0m\u001b[0;34m\u001b[0m\u001b[0;34m\u001b[0m\u001b[0m\n\u001b[0m\u001b[1;32m     14\u001b[0m         \u001b[0;32mif\u001b[0m \u001b[0mshuffle\u001b[0m \u001b[0;34m==\u001b[0m \u001b[0;32mTrue\u001b[0m\u001b[0;34m:\u001b[0m\u001b[0;34m\u001b[0m\u001b[0;34m\u001b[0m\u001b[0m\n\u001b[1;32m     15\u001b[0m             \u001b[0mnp\u001b[0m\u001b[0;34m.\u001b[0m\u001b[0mrandom\u001b[0m\u001b[0;34m.\u001b[0m\u001b[0mshuffle\u001b[0m\u001b[0;34m(\u001b[0m\u001b[0mnew_ind\u001b[0m\u001b[0;34m)\u001b[0m\u001b[0;34m\u001b[0m\u001b[0;34m\u001b[0m\u001b[0m\n",
      "\u001b[0;32m~/miniconda3/envs/env/lib/python3.7/site-packages/numpy/core/_asarray.py\u001b[0m in \u001b[0;36masarray\u001b[0;34m(a, dtype, order)\u001b[0m\n\u001b[1;32m     81\u001b[0m \u001b[0;34m\u001b[0m\u001b[0m\n\u001b[1;32m     82\u001b[0m     \"\"\"\n\u001b[0;32m---> 83\u001b[0;31m     \u001b[0;32mreturn\u001b[0m \u001b[0marray\u001b[0m\u001b[0;34m(\u001b[0m\u001b[0ma\u001b[0m\u001b[0;34m,\u001b[0m \u001b[0mdtype\u001b[0m\u001b[0;34m,\u001b[0m \u001b[0mcopy\u001b[0m\u001b[0;34m=\u001b[0m\u001b[0;32mFalse\u001b[0m\u001b[0;34m,\u001b[0m \u001b[0morder\u001b[0m\u001b[0;34m=\u001b[0m\u001b[0morder\u001b[0m\u001b[0;34m)\u001b[0m\u001b[0;34m\u001b[0m\u001b[0;34m\u001b[0m\u001b[0m\n\u001b[0m\u001b[1;32m     84\u001b[0m \u001b[0;34m\u001b[0m\u001b[0m\n\u001b[1;32m     85\u001b[0m \u001b[0;34m\u001b[0m\u001b[0m\n",
      "\u001b[0;31mKeyboardInterrupt\u001b[0m: "
     ]
    }
   ],
   "source": [
    "c = [10,50,100,150,200]\n",
    "m_type = ['log_reg', 'lin_reg']\n",
    "epoch = [25,50,75,100]\n",
    "alphas = [0.001, 0.005, 0.01, 0.05]\n",
    "str_list  = []\n",
    "res_list = []\n",
    "for t in alphas:\n",
    "    for j in m_type:\n",
    "        for i in c:\n",
    "            for k in epoch:\n",
    "                folds_ind = KFold(n_splits = 3, shuffle = True)\n",
    "                score = 0\n",
    "                my_clf = MySGDClassifier(batch_generator, C = i, alpha = t, max_epoch = k,\n",
    "                                     model_type = j, batch_size = 200, \n",
    "                                     shuffle = False, break_point = 0.5)\n",
    "                for train_index, test_index in folds_ind.split(y_train):\n",
    "                    X_tr  = X_train[train_index]\n",
    "                    X_tst  = X_train[test_index]\n",
    "                    y_tr = y_train[train_index]\n",
    "                    y_tst  = y_train[test_index]\n",
    "                    X_tr = (X_tr - np.mean(X_tr, axis = 0)) / np.std(X_tr, axis = 0)\n",
    "                    my_clf.fit(X_tr, y_tr)\n",
    "                    print('Fit finished')\n",
    "                    ret = my_clf.predict(X_tst)\n",
    "                    score += f1_score(y_tst, ret)\n",
    "                s = \"C = \" + str(i) + \",m_type = \" + str(j) + \", epoch = \"+ str(k) + \",alpha = \" + str(t) + \"\\n\"\n",
    "                print(s + str(score/3))\n",
    "                str_list.append(s)\n",
    "                res_list.append(score/3)\n",
    "print(str_list[np.argmax(np.asarray(res_list))], np.max(np.asarray(res_list)))"
   ]
  },
  {
   "cell_type": "code",
   "execution_count": 75,
   "metadata": {},
   "outputs": [
    {
     "name": "stdout",
     "output_type": "stream",
     "text": [
      "Fit finished\n",
      "Fit finished\n",
      "Fit finished\n",
      "0.5134461000827882\n"
     ]
    }
   ],
   "source": [
    "score = 0\n",
    "folds_ind = KFold(n_splits = 3, shuffle = True)\n",
    "my_clf = MySGDClassifier(batch_generator, C = 200, alpha = 0.01, max_epoch = 50,\n",
    "                            model_type = 'log_reg', batch_size = 100, \n",
    "                            shuffle = False, break_point = 0.5)\n",
    "for train_index, test_index in folds_ind.split(y_train):\n",
    "    X_tr  = X_train[train_index]\n",
    "    X_tst  = X_train[test_index]\n",
    "    y_tr = y_train[train_index]\n",
    "    y_tst  = y_train[test_index]\n",
    "    X_tr = (X_tr - np.mean(X_tr, axis = 0)) / np.std(X_tr, axis = 0)\n",
    "    my_clf.fit(X_tr, y_tr)\n",
    "    print('Fit finished')\n",
    "    ret = my_clf.predict(X_tst)\n",
    "    score += f1_score(y_tst, ret)\n",
    "print(score/3)"
   ]
  },
  {
   "cell_type": "code",
   "execution_count": null,
   "metadata": {},
   "outputs": [],
   "source": []
  },
  {
   "cell_type": "code",
   "execution_count": null,
   "metadata": {},
   "outputs": [],
   "source": []
  },
  {
   "cell_type": "markdown",
   "metadata": {
    "collapsed": true
   },
   "source": [
    "Подберите порог линейной модели, по достижении которого, Вы будете относить объект к классу 1. Вспомните, какую метрику мы оптимизируем в соревновании.  Как тогда правильно подобрать порог?"
   ]
  },
  {
   "cell_type": "code",
   "execution_count": 68,
   "metadata": {},
   "outputs": [
    {
     "name": "stdout",
     "output_type": "stream",
     "text": [
      "(16627, 15) (16627,)\n"
     ]
    }
   ],
   "source": [
    "test_data = pd.read_csv('test_groups.csv')\n",
    "testgroups_titledata = {}\n",
    "for i in range(len(test_data)):\n",
    "    new_doc = test_data.iloc[i]\n",
    "    doc_group = new_doc['group_id']\n",
    "    doc_id = new_doc['doc_id']\n",
    "    #target = new_doc['target']\n",
    "    title = doc_to_title[doc_id]\n",
    "    if doc_group not in testgroups_titledata:\n",
    "        testgroups_titledata[doc_group] = []\n",
    "    testgroups_titledata[doc_group].append((doc_id, title))\n",
    "\n",
    "X_test = []\n",
    "groups_test = []\n",
    "for new_group in testgroups_titledata:\n",
    "    docs = testgroups_titledata[new_group]\n",
    "    for k, (doc_id, title) in enumerate(docs):\n",
    "        groups_test.append(new_group)\n",
    "        all_dist = []\n",
    "        words = set(title.strip().split())\n",
    "        for j in range(0, len(docs)):\n",
    "            if k == j:\n",
    "                continue\n",
    "            doc_id_j, title_j = docs[j]\n",
    "            words_j = set(title_j.strip().split())\n",
    "            all_dist.append(len(words.intersection(words_j)))\n",
    "        X_test.append(sorted(all_dist, reverse=True)[0:15]    )\n",
    "X_test = np.array(X_test)\n",
    "groups_test = np.array(groups_test)\n",
    "print (X_test.shape, groups_test.shape)"
   ]
  },
  {
   "cell_type": "code",
   "execution_count": 77,
   "metadata": {},
   "outputs": [],
   "source": [
    "ret = my_clf.predict(X_test)\n",
    "fr = {'pair_id':test_data['pair_id'], 'target': ret}\n",
    "fr  = pd.DataFrame(fr, dtype = int)\n",
    "fr.to_csv('Prediction.csv', index  = False)"
   ]
  },
  {
   "cell_type": "markdown",
   "metadata": {},
   "source": [
    "С лучшими параметрами на валидации сделайте предсказание на тестовом множестве, отправьте его на проверку на платформу kaggle. Убедитесь, что Вы смогли побить public score первого бейзлайна."
   ]
  },
  {
   "cell_type": "markdown",
   "metadata": {
    "collapsed": true
   },
   "source": [
    "** При сдаче домашки Вам необходимо кроме ссылки на ноутбук показать Ваш ник на kaggle, под которым Вы залили решение, которое побило Handmade baseline. **"
   ]
  },
  {
   "cell_type": "code",
   "execution_count": null,
   "metadata": {
    "collapsed": true
   },
   "outputs": [],
   "source": []
  },
  {
   "cell_type": "markdown",
   "metadata": {},
   "source": [
    "# Фидбек (бесценно)"
   ]
  },
  {
   "cell_type": "markdown",
   "metadata": {},
   "source": [
    "* Какие аспекты обучения линейных моделей Вам показались непонятными? Какое место стоит дополнительно объяснить?"
   ]
  },
  {
   "cell_type": "markdown",
   "metadata": {},
   "source": [
    "***Ваше ответ здесь***"
   ]
  },
  {
   "cell_type": "markdown",
   "metadata": {},
   "source": [
    "* Здесь Вы можете оставить отзыв о этой домашней работе или о всем курсе.   "
   ]
  },
  {
   "cell_type": "markdown",
   "metadata": {},
   "source": [
    "*** ВАШ ОТЗЫВ ЗДЕСЬ***"
   ]
  },
  {
   "cell_type": "code",
   "execution_count": null,
   "metadata": {
    "collapsed": true
   },
   "outputs": [],
   "source": []
  },
  {
   "cell_type": "code",
   "execution_count": null,
   "metadata": {
    "collapsed": true
   },
   "outputs": [],
   "source": []
  }
 ],
 "metadata": {
  "anaconda-cloud": {},
  "kernelspec": {
   "display_name": "Python 3",
   "language": "python",
   "name": "python3"
  },
  "language_info": {
   "codemirror_mode": {
    "name": "ipython",
    "version": 3
   },
   "file_extension": ".py",
   "mimetype": "text/x-python",
   "name": "python",
   "nbconvert_exporter": "python",
   "pygments_lexer": "ipython3",
   "version": "3.7.9"
  },
  "nav_menu": {},
  "toc": {
   "colors": {
    "hover_highlight": "#DAA520",
    "navigate_num": "#000000",
    "navigate_text": "#333333",
    "running_highlight": "#FF0000",
    "selected_highlight": "#FFD700",
    "sidebar_border": "#EEEEEE",
    "wrapper_background": "#FFFFFF"
   },
   "moveMenuLeft": true,
   "nav_menu": {
    "height": "402px",
    "width": "253px"
   },
   "navigate_menu": true,
   "number_sections": false,
   "sideBar": true,
   "threshold": 4,
   "toc_cell": false,
   "toc_section_display": "block",
   "toc_window_display": true,
   "widenNotebook": false
  }
 },
 "nbformat": 4,
 "nbformat_minor": 2
}

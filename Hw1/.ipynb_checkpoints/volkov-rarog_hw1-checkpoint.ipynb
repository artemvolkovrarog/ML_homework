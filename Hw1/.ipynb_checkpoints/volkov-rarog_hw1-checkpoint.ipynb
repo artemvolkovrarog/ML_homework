{
 "cells": [
  {
   "cell_type": "markdown",
   "metadata": {},
   "source": [
    "**Общая информация**\n",
    "\n",
    "**Срок сдачи:** 21 октября 2020, 08:30 \n",
    "\n",
    "**Штраф за опоздание:** по 1 баллу за 24 часа задержки. Через 5 дней домашнее задание сгорает.\n",
    "\n",
    "При отправлении ДЗ указывайте фамилию в названии файла\n",
    "Присылать ДЗ необходимо в виде ссылки на свой github репозиторий на почту ml1.sphere@mail.ru с указанием темы в следующем формате:\n",
    "\n",
    "[ML0220, Задание 1] Фамилия Имя.\n",
    "\n",
    "Используйте данный Ipython Notebook при оформлении домашнего задания."
   ]
  },
  {
   "cell_type": "markdown",
   "metadata": {},
   "source": [
    "\n",
    "**Штрафные баллы:**\n",
    "\n",
    "1. Отсутствие фамилии в имени скрипта (скрипт должен называться по аналогии со stroykova_hw1.ipynb) -0.5 баллов\n",
    "2. Все строчки должны быть выполнены. Нужно, чтобы output команды можно было увидеть уже в git'е. В противном случае -0.5 баллов\n"
   ]
  },
  {
   "cell_type": "code",
   "execution_count": 4,
   "metadata": {},
   "outputs": [],
   "source": [
    "import numpy as np\n",
    "import matplotlib.pyplot as plt\n",
    "\n",
    "from scipy.spatial import distance\n",
    "\n",
    "import seaborn as sns\n",
    "from sklearn import datasets\n",
    "from sklearn.base import BaseEstimator\n",
    "from sklearn.datasets import fetch_openml, fetch_20newsgroups\n",
    "\n",
    "from sklearn.model_selection import train_test_split\n",
    "from sklearn.neighbors import KNeighborsClassifier\n",
    "from sklearn.neighbors import KDTree\n",
    "from sklearn.metrics import accuracy_score\n",
    "from sklearn.feature_extraction.text import CountVectorizer\n",
    "from sklearn.model_selection import KFold\n",
    "from sklearn.feature_extraction.text import TfidfVectorizer\n",
    "from sklearn.metrics.pairwise import euclidean_distances, cosine_distances"
   ]
  },
  {
   "cell_type": "markdown",
   "metadata": {},
   "source": [
    "##### Задание 1 (1 балл)\n",
    "Реализовать KNN в классе MyKNeighborsClassifier (обязательное условие: точность не ниже sklearn реализации)\n",
    "Разберитесь самостоятельно, какая мера расстояния используется в KNeighborsClassifier дефолтно и реализуйте свой алгоритм именно с этой мерой. \n",
    "Для подсчета расстояний можно использовать функции [отсюда](https://docs.scipy.org/doc/scipy/reference/spatial.distance.html)"
   ]
  },
  {
   "cell_type": "code",
   "execution_count": 5,
   "metadata": {},
   "outputs": [],
   "source": [
    "def get_best_ranks(ranks, top):\n",
    "    idx = np.argpartition(ranks, top, axis = 1 )[:,:top]\n",
    "    return idx\n",
    "    \n",
    "\n",
    "\n",
    "def maxnum(y):\n",
    "    ind = np.unique(y,return_counts = True, return_inverse = True)\n",
    "    return ind[0][ind[1]][np.argmax(ind[2][ind[1]])]\n",
    "\n",
    "\n",
    "class MyKNeighborsClassifier(BaseEstimator):\n",
    "    \n",
    "    def __init__(self, n_neighbors, algorithm='brute', metric = 'euclidean'):\n",
    "        self.metric = metric\n",
    "        self.n = n_neighbors\n",
    "        self.algorithm = algorithm\n",
    "    \n",
    "    def fit(self, X, y):\n",
    "        self.y = y\n",
    "        self.Xtr = (X - np.mean(X, axis  = 0)) / np.std(X, axis = 0)\n",
    "    \n",
    "    def predict(self, X):\n",
    "        self.Xtes = (X - np.mean(X,axis = 0))/np.std(X, axis = 0)\n",
    "        if self.algorithm == 'brute':\n",
    "            if self.metric == 'euclidean':\n",
    "                self.dist = euclidean_distances(self.Xtes,self.Xtr)\n",
    "            elif self.metric == 'cosine':\n",
    "                self.dist = cosine_distances(self.Xtes,self.Xtr)\n",
    "            self.ranks = get_best_ranks(self.dist, self.n)\n",
    "            self.pair_predict = np.take_along_axis(self.y.reshape(1,-1) + np.zeros(len(self.Xtes)).reshape(-1,1), self.ranks, axis = 1).astype(int)\n",
    "            return np.apply_along_axis(maxnum, 1, self.pair_predict)\n",
    "        elif self.algorithm == 'kd_tree':\n",
    "            self.tree = KDTree(self.Xtr)\n",
    "            self.dist = self.tree.query(self.Xtes, self.n, return_distance = True)[1]\n",
    "            self.pair_predict = np.take_along_axis(self.y.reshape(1,-1) + np.zeros(len(self.Xtes)).reshape(-1,1), self.dist, axis = 1).astype(int)\n",
    "            return np.apply_along_axis(maxnum, 1, self.pair_predict)\n",
    "        \n",
    "     \n"
   ]
  },
  {
   "cell_type": "markdown",
   "metadata": {},
   "source": [
    "**IRIS**\n",
    "\n",
    "В библиотеке scikit-learn есть несколько датасетов из коробки. Один из них [Ирисы Фишера](https://ru.wikipedia.org/wiki/%D0%98%D1%80%D0%B8%D1%81%D1%8B_%D0%A4%D0%B8%D1%88%D0%B5%D1%80%D0%B0)"
   ]
  },
  {
   "cell_type": "code",
   "execution_count": 6,
   "metadata": {},
   "outputs": [],
   "source": [
    "iris = datasets.load_iris()"
   ]
  },
  {
   "cell_type": "code",
   "execution_count": 7,
   "metadata": {},
   "outputs": [
    {
     "data": {
      "text/plain": [
       "array([2, 1, 0, 2, 1, 1, 1, 1, 2, 1, 1, 2, 0, 2, 0, 2, 1, 1, 2, 1, 2, 0,\n",
       "       1, 2, 1, 1, 0, 0, 1, 0, 2, 1, 2, 0, 0, 2, 1, 1, 0, 2, 0, 0, 2, 2,\n",
       "       1, 2, 0, 2, 2, 0, 2, 2, 0, 2, 2, 1, 1, 1, 2, 1, 1, 1, 2, 2, 2, 0,\n",
       "       1, 1, 1, 0, 1, 0, 0, 2, 0, 2, 0, 1, 0, 2, 2, 2, 0, 2, 1, 2, 0, 0,\n",
       "       1, 0, 2, 0, 2, 2, 1, 0, 0, 0, 1, 0, 0, 1, 2, 1, 0, 2, 1, 0, 1, 0,\n",
       "       2, 2, 2, 0, 0, 1, 0, 1, 1, 0, 2, 2, 1, 2, 1, 0, 1, 0, 0, 0, 0, 2,\n",
       "       1, 0, 1])"
      ]
     },
     "execution_count": 7,
     "metadata": {},
     "output_type": "execute_result"
    }
   ],
   "source": [
    "X_train, X_test, y_train, y_test = train_test_split(iris.data, iris.target, test_size=0.1, stratify=iris.target)\n",
    "y_train"
   ]
  },
  {
   "cell_type": "code",
   "execution_count": 8,
   "metadata": {},
   "outputs": [],
   "source": [
    "clf = KNeighborsClassifier(n_neighbors=2, algorithm='brute')\n",
    "my_clf = MyKNeighborsClassifier(n_neighbors=2, algorithm='brute')"
   ]
  },
  {
   "cell_type": "code",
   "execution_count": 9,
   "metadata": {},
   "outputs": [],
   "source": [
    "clf.fit(X_train, y_train)\n",
    "my_clf.fit(X_train, y_train)"
   ]
  },
  {
   "cell_type": "code",
   "execution_count": 10,
   "metadata": {},
   "outputs": [
    {
     "name": "stdout",
     "output_type": "stream",
     "text": [
      "1.0\n",
      "1.0\n"
     ]
    }
   ],
   "source": [
    "sklearn_pred = clf.predict(X_test)\n",
    "my_clf_pred = my_clf.predict(X_test)\n",
    "print(accuracy_score(y_test, my_clf_pred))\n",
    "print(accuracy_score(y_test, sklearn_pred))\n",
    "assert abs( accuracy_score(y_test, my_clf_pred) -  accuracy_score(y_test, sklearn_pred ) )<0.005, \"Score must be simillar\""
   ]
  },
  {
   "cell_type": "code",
   "execution_count": 12,
   "metadata": {},
   "outputs": [
    {
     "name": "stdout",
     "output_type": "stream",
     "text": [
      "Successfull tests - 83.27%\n"
     ]
    }
   ],
   "source": [
    "cpos = 0;\n",
    "ceq = 0;\n",
    "for i in range(10000):\n",
    "    X_train, X_test, y_train, y_test = train_test_split(iris.data, iris.target, test_size=0.1, stratify=iris.target)\n",
    "    clf = KNeighborsClassifier(n_neighbors=2, algorithm='brute')\n",
    "    my_clf = MyKNeighborsClassifier(n_neighbors=2, algorithm='brute')\n",
    "    clf.fit(X_train, y_train)\n",
    "    my_clf.fit(X_train, y_train)\n",
    "    sklearn_pred = clf.predict(X_test)\n",
    "    my_clf_pred = my_clf.predict(X_test)\n",
    "    if accuracy_score(y_test, my_clf_pred) >  accuracy_score(y_test, sklearn_pred ):\n",
    "        cpos += 1\n",
    "    elif accuracy_score(y_test, my_clf_pred) == accuracy_score(y_test, sklearn_pred ):\n",
    "        ceq += 1\n",
    "print (\"Successfull tests - \" + str(100*(cpos + ceq)/10000) + \"%\")"
   ]
  },
  {
   "cell_type": "markdown",
   "metadata": {},
   "source": [
    "**Задание 2 (0.5 балла)**\n",
    "\n",
    "Давайте попробуем добиться скорости работы на fit, predict сравнимой со sklearn для iris. Допускается замедление не более чем в 2 раза. \n",
    "Для этого используем numpy. "
   ]
  },
  {
   "cell_type": "code",
   "execution_count": 13,
   "metadata": {},
   "outputs": [
    {
     "name": "stdout",
     "output_type": "stream",
     "text": [
      "CPU times: user 1.19 ms, sys: 139 µs, total: 1.33 ms\n",
      "Wall time: 1.4 ms\n"
     ]
    },
    {
     "data": {
      "text/plain": [
       "KNeighborsClassifier(algorithm='brute', n_neighbors=2)"
      ]
     },
     "execution_count": 13,
     "metadata": {},
     "output_type": "execute_result"
    }
   ],
   "source": [
    "%time clf.fit(X_train, y_train)"
   ]
  },
  {
   "cell_type": "code",
   "execution_count": 14,
   "metadata": {},
   "outputs": [
    {
     "name": "stdout",
     "output_type": "stream",
     "text": [
      "CPU times: user 1.14 ms, sys: 730 µs, total: 1.87 ms\n",
      "Wall time: 1.45 ms\n"
     ]
    }
   ],
   "source": [
    "%time my_clf.fit(X_train, y_train)"
   ]
  },
  {
   "cell_type": "code",
   "execution_count": 15,
   "metadata": {},
   "outputs": [
    {
     "name": "stdout",
     "output_type": "stream",
     "text": [
      "CPU times: user 4.44 ms, sys: 1.59 ms, total: 6.03 ms\n",
      "Wall time: 6.02 ms\n"
     ]
    },
    {
     "data": {
      "text/plain": [
       "array([2, 2, 2, 1, 0, 0, 1, 0, 0, 1, 2, 2, 2, 0, 1])"
      ]
     },
     "execution_count": 15,
     "metadata": {},
     "output_type": "execute_result"
    }
   ],
   "source": [
    "%time clf.predict(X_test)"
   ]
  },
  {
   "cell_type": "code",
   "execution_count": 16,
   "metadata": {},
   "outputs": [
    {
     "name": "stdout",
     "output_type": "stream",
     "text": [
      "CPU times: user 4.75 ms, sys: 2.04 ms, total: 6.78 ms\n",
      "Wall time: 7.16 ms\n"
     ]
    },
    {
     "data": {
      "text/plain": [
       "array([2, 2, 2, 1, 0, 0, 2, 0, 0, 1, 2, 2, 2, 0, 1])"
      ]
     },
     "execution_count": 16,
     "metadata": {},
     "output_type": "execute_result"
    }
   ],
   "source": [
    "%time my_clf.predict(X_test)"
   ]
  },
  {
   "cell_type": "markdown",
   "metadata": {},
   "source": [
    "###### Задание 3 (1 балл)\n",
    "Добавьте algorithm='kd_tree' в реализацию KNN (использовать KDTree из sklearn.neighbors). Необходимо добиться скорости работы на fit,  predict сравнимой со sklearn для iris. Допускается замедление не более чем в 2 раза. \n",
    "Для этого используем numpy. Точность не должна уступать значению KNN из sklearn. "
   ]
  },
  {
   "cell_type": "code",
   "execution_count": 17,
   "metadata": {},
   "outputs": [],
   "source": [
    "clf = KNeighborsClassifier(n_neighbors=2, algorithm='kd_tree')\n",
    "my_clf = MyKNeighborsClassifier(n_neighbors=2, algorithm='kd_tree')"
   ]
  },
  {
   "cell_type": "code",
   "execution_count": 18,
   "metadata": {},
   "outputs": [],
   "source": [
    "X_train, X_test, y_train, y_test = train_test_split(iris.data, iris.target, test_size=0.1, stratify=iris.target)"
   ]
  },
  {
   "cell_type": "code",
   "execution_count": 19,
   "metadata": {},
   "outputs": [
    {
     "name": "stdout",
     "output_type": "stream",
     "text": [
      "CPU times: user 1.74 ms, sys: 1.26 ms, total: 3 ms\n",
      "Wall time: 6.21 ms\n"
     ]
    },
    {
     "data": {
      "text/plain": [
       "KNeighborsClassifier(algorithm='kd_tree', n_neighbors=2)"
      ]
     },
     "execution_count": 19,
     "metadata": {},
     "output_type": "execute_result"
    }
   ],
   "source": [
    "%time clf.fit(X_train, y_train)"
   ]
  },
  {
   "cell_type": "code",
   "execution_count": 20,
   "metadata": {},
   "outputs": [
    {
     "name": "stdout",
     "output_type": "stream",
     "text": [
      "CPU times: user 774 µs, sys: 454 µs, total: 1.23 ms\n",
      "Wall time: 965 µs\n"
     ]
    }
   ],
   "source": [
    "%time my_clf.fit(X_train, y_train)"
   ]
  },
  {
   "cell_type": "code",
   "execution_count": 104,
   "metadata": {},
   "outputs": [
    {
     "name": "stdout",
     "output_type": "stream",
     "text": [
      "CPU times: user 5.04 ms, sys: 11.2 ms, total: 16.3 ms\n",
      "Wall time: 45.2 ms\n"
     ]
    },
    {
     "data": {
      "text/plain": [
       "array([0, 1, 2, 1, 0, 2, 0, 0, 1, 1, 0, 2, 2, 2, 1])"
      ]
     },
     "execution_count": 104,
     "metadata": {},
     "output_type": "execute_result"
    }
   ],
   "source": [
    "%time clf.predict(X_test)"
   ]
  },
  {
   "cell_type": "code",
   "execution_count": 21,
   "metadata": {},
   "outputs": [
    {
     "name": "stdout",
     "output_type": "stream",
     "text": [
      "CPU times: user 4.66 ms, sys: 1 ms, total: 5.66 ms\n",
      "Wall time: 6.13 ms\n"
     ]
    },
    {
     "data": {
      "text/plain": [
       "array([0, 1, 2, 0, 1, 0, 1, 1, 0, 0, 2, 2, 1, 2, 2])"
      ]
     },
     "execution_count": 21,
     "metadata": {},
     "output_type": "execute_result"
    }
   ],
   "source": [
    "%time my_clf.predict(X_test)"
   ]
  },
  {
   "cell_type": "code",
   "execution_count": 22,
   "metadata": {},
   "outputs": [
    {
     "name": "stdout",
     "output_type": "stream",
     "text": [
      "1.0\n",
      "1.0\n"
     ]
    }
   ],
   "source": [
    "sklearn_pred = clf.predict(X_test)\n",
    "my_clf_pred = my_clf.predict(X_test)\n",
    "print(accuracy_score(y_test, my_clf_pred))\n",
    "print(accuracy_score(y_test, sklearn_pred))\n",
    "assert abs( accuracy_score(y_test, my_clf_pred) -  accuracy_score(y_test, sklearn_pred ) )<0.005, \"Score must be simillar\""
   ]
  },
  {
   "cell_type": "code",
   "execution_count": 23,
   "metadata": {},
   "outputs": [
    {
     "name": "stdout",
     "output_type": "stream",
     "text": [
      "Successfull tests - 81.9%\n"
     ]
    }
   ],
   "source": [
    "cpos = 0;\n",
    "ceq = 0;\n",
    "for i in range(2000):\n",
    "    X_train, X_test, y_train, y_test = train_test_split(iris.data, iris.target, test_size=0.1, stratify=iris.target)\n",
    "    clf = KNeighborsClassifier(n_neighbors=2, algorithm='kd_tree')\n",
    "    my_clf = MyKNeighborsClassifier(n_neighbors=2, algorithm='kd_tree')\n",
    "    clf.fit(X_train, y_train)\n",
    "    my_clf.fit(X_train, y_train)\n",
    "    sklearn_pred = clf.predict(X_test)\n",
    "    my_clf_pred = my_clf.predict(X_test)\n",
    "    if accuracy_score(y_test, my_clf_pred) >  accuracy_score(y_test, sklearn_pred ):\n",
    "        cpos += 1\n",
    "    elif accuracy_score(y_test, my_clf_pred) == accuracy_score(y_test, sklearn_pred ):\n",
    "        ceq += 1\n",
    "print (\"Successfull tests - \" + str(100*(cpos + ceq)/2000) + \"%\")"
   ]
  },
  {
   "cell_type": "markdown",
   "metadata": {},
   "source": [
    "**Задание 4 (2.5 балла)**\n",
    "\n",
    "Рассмотрим новый датасет 20 newsgroups"
   ]
  },
  {
   "cell_type": "code",
   "execution_count": 126,
   "metadata": {},
   "outputs": [],
   "source": [
    "newsgroups = fetch_20newsgroups(subset='train',remove=['headers','footers', 'quotes'])"
   ]
  },
  {
   "cell_type": "code",
   "execution_count": 127,
   "metadata": {},
   "outputs": [
    {
     "data": {
      "text/plain": [
       "array([7, 4, 4, ..., 3, 1, 8])"
      ]
     },
     "execution_count": 127,
     "metadata": {},
     "output_type": "execute_result"
    }
   ],
   "source": [
    "data = newsgroups['data']\n",
    "target = newsgroups['target']\n",
    "target"
   ]
  },
  {
   "cell_type": "markdown",
   "metadata": {},
   "source": [
    "Преобразуйте текстовые данные из data с помощью [CountVectorizer](https://scikit-learn.org/stable/modules/generated/sklearn.feature_extraction.text.CountVectorizer.html). Словарь можно ограничить по частотности."
   ]
  },
  {
   "cell_type": "code",
   "execution_count": 110,
   "metadata": {},
   "outputs": [
    {
     "data": {
      "text/plain": [
       "(11314, 1379)"
      ]
     },
     "execution_count": 110,
     "metadata": {},
     "output_type": "execute_result"
    }
   ],
   "source": [
    "vtext = CountVectorizer(min_df = 0.01, max_df = 0.8)\n",
    "vmas = vtext.fit_transform(data)\n",
    "newdat = vmas.toarray()\n",
    "newdat.shape"
   ]
  },
  {
   "cell_type": "markdown",
   "metadata": {},
   "source": [
    "*Так мы получили векторное представление наших текстов. Значит можно приступать к задаче обучения модели*"
   ]
  },
  {
   "cell_type": "markdown",
   "metadata": {},
   "source": [
    "Реализуйте разбиение выборки для кросс-валидации на 3 фолдах. Разрешено использовать sklearn.cross_validation"
   ]
  },
  {
   "cell_type": "code",
   "execution_count": 41,
   "metadata": {},
   "outputs": [],
   "source": [
    "folds_ind = KFold(n_splits = 3, shuffle = True)"
   ]
  },
  {
   "cell_type": "markdown",
   "metadata": {},
   "source": [
    "Напишите метод, позволяющий найти оптимальное количество ближайших соседей(дающее максимальную точность в среднем на валидации на 3 фолдах).\n",
    "Постройте график зависимости средней точности от количества соседей. Можно рассмотреть число соседей от 1 до 10."
   ]
  },
  {
   "cell_type": "code",
   "execution_count": 116,
   "metadata": {},
   "outputs": [],
   "source": [
    "#метод\n",
    "def optimal_neighbors(vectorizer, met, nn_min, nn_max, nn_step):\n",
    "    if vectorizer == \"tfidf\":\n",
    "        vtext = TfidfVectorizer(min_df = 0.01, max_df = 0.8)\n",
    "    elif vectorizer == \"count\":\n",
    "        vtext = CountVectorizer(min_df = 0.01, max_df = 0.8)\n",
    "    vmas = vtext.fit_transform(data)\n",
    "    newdat = vmas.toarray()\n",
    "    folds_ind = KFold(n_splits = 3, shuffle = True)\n",
    "    results = list()\n",
    "    for j in range(nn_min,nn_max,nn_step):\n",
    "        res = list()\n",
    "        folds_ind = KFold(n_splits = 3, shuffle = True)\n",
    "        for train_index, test_index in folds_ind.split(target):\n",
    "            X_train  = newdat[train_index]\n",
    "            X_test  = newdat[test_index]\n",
    "            Y_train = target[train_index]\n",
    "            Y_test  = target[test_index]\n",
    "            my_clf = MyKNeighborsClassifier(n_neighbors = j, algorithm = 'brute', metric = met )\n",
    "            my_clf.fit(X_train,Y_train)\n",
    "            res.append(accuracy_score(my_clf.predict(X_test),Y_test))\n",
    "        results.append(np.mean(np.asarray(res)))\n",
    "        res.clear()\n",
    "        print(\"#\" + str(j))\n",
    "    print(results)\n",
    "    res_ar = np.asarray(results)\n",
    "    fig = plt.figure()\n",
    "    graph = fig.add_subplot(111)\n",
    "    print(plt.plot(range(nn_min, nn_max, nn_step), results))\n",
    "    return \"Optimal number = \" + str((np.argmax(res_ar)+1)*nn_step)\n",
    "    \n",
    "    "
   ]
  },
  {
   "cell_type": "code",
   "execution_count": 39,
   "metadata": {
    "scrolled": true
   },
   "outputs": [
    {
     "name": "stdout",
     "output_type": "stream",
     "text": [
      "#10\n",
      "#20\n",
      "#30\n",
      "#40\n",
      "#50\n",
      "#60\n",
      "#70\n",
      "#80\n",
      "#90\n",
      "#100\n",
      "#110\n",
      "#120\n",
      "#130\n",
      "#140\n",
      "#150\n",
      "#160\n",
      "#170\n",
      "#180\n",
      "#190\n",
      "#200\n",
      "[0.1957760003389526, 0.19391930697695825, 0.1788929326981347, 0.1733240008890006, 0.16828735398488157, 0.15388041648048176, 0.15361584412080848, 0.14247741808122658, 0.14468745263358, 0.14247819141053297, 0.13487683301308126, 0.13646961017360168, 0.13213666950408218, 0.12771732686023896, 0.12824637784269996, 0.12568468936392868, 0.12427015289142203, 0.11790635572641915, 0.12038093920422445, 0.1145483724042733]\n",
      "[<matplotlib.lines.Line2D object at 0x120745350>]\n"
     ]
    },
    {
     "data": {
      "text/plain": [
       "'Optimal number = 1'"
      ]
     },
     "execution_count": 39,
     "metadata": {},
     "output_type": "execute_result"
    },
    {
     "data": {
      "image/png": "[encoded data removed]",
      "text/plain": [
       "<Figure size 432x288 with 1 Axes>"
      ]
     },
     "metadata": {
      "needs_background": "light"
     },
     "output_type": "display_data"
    }
   ],
   "source": [
    "#вычисление оптимального количества соседей, построение графика для модели с использованием\n",
    "#евклидовой метрики и Countvectorizer\n",
    "optimal_neighbors(\"count\", \"euclidean\",10, 210, 10)"
   ]
  },
  {
   "cell_type": "markdown",
   "metadata": {},
   "source": [
    "Как изменится качество на валидации, если:\n",
    "\n",
    "1. Используется косинусная метрика вместо евклидовой.\n",
    "2. К текстам применяется TfIdf векторизацию( sklearn.feature_extraction.text.TfidfVectorizer)\n",
    "\n",
    "Сравните модели, выберите лучшую."
   ]
  },
  {
   "cell_type": "code",
   "execution_count": 117,
   "metadata": {
    "scrolled": true
   },
   "outputs": [
    {
     "name": "stdout",
     "output_type": "stream",
     "text": [
      "#10\n",
      "#20\n",
      "#30\n",
      "#40\n",
      "#50\n",
      "#60\n",
      "#70\n",
      "#80\n",
      "#90\n",
      "#100\n",
      "#110\n",
      "#120\n",
      "#130\n",
      "#140\n",
      "#150\n",
      "#160\n",
      "#170\n",
      "#180\n",
      "#190\n",
      "#200\n",
      "[0.3055506812375031, 0.3250832922531432, 0.33277400533681584, 0.3351598434181568, 0.33392167289595137, 0.3361330900673678, 0.3369272758308158, 0.33675037089342225, 0.3449711894995191, 0.34028523571874025, 0.34302722709700895, 0.33843025305490854, 0.3417007329943245, 0.33621935143636317, 0.3363075812799566, 0.3338334664865794, 0.3329494104840394, 0.335779420797909, 0.33056390048179823, 0.33021166069984526]\n",
      "[<matplotlib.lines.Line2D object at 0x11d3c0b10>]\n"
     ]
    },
    {
     "data": {
      "text/plain": [
       "'Optimal number = 90'"
      ]
     },
     "execution_count": 117,
     "metadata": {},
     "output_type": "execute_result"
    },
    {
     "data": {
      "image/png": "[encoded data removed]",
      "text/plain": [
       "<Figure size 432x288 with 1 Axes>"
      ]
     },
     "metadata": {
      "needs_background": "light"
     },
     "output_type": "display_data"
    }
   ],
   "source": [
    "# metric == cosine + countvectorizer\n",
    "optimal_neighbors(\"count\", \"cosine\",10, 210, 10)\n"
   ]
  },
  {
   "cell_type": "code",
   "execution_count": 120,
   "metadata": {},
   "outputs": [
    {
     "name": "stdout",
     "output_type": "stream",
     "text": [
      "#10\n",
      "#20\n",
      "#30\n",
      "#40\n",
      "#50\n",
      "#60\n",
      "#70\n",
      "#80\n",
      "#90\n",
      "#100\n",
      "#110\n",
      "#120\n",
      "#130\n",
      "#140\n",
      "#150\n",
      "#160\n",
      "#170\n",
      "#180\n",
      "#190\n",
      "#200\n",
      "[0.08909318374426178, 0.07910556544948383, 0.07618852043731257, 0.068056962780551, 0.06717325829133218, 0.06284219235952519, 0.06522833508574441, 0.059483646616065616, 0.05895356452786277, 0.060897409759265865, 0.05842343557121712, 0.058953845738519646, 0.060633142044470845, 0.056920317741795935, 0.05409211186297467, 0.05577190028757539, 0.05559459696841789, 0.05577220493245367, 0.05550646086171007, 0.05630205267844245]\n",
      "[<matplotlib.lines.Line2D object at 0x11d484310>]\n"
     ]
    },
    {
     "data": {
      "text/plain": [
       "'Optimal number = 10'"
      ]
     },
     "execution_count": 120,
     "metadata": {},
     "output_type": "execute_result"
    },
    {
     "data": {
      "image/png": "[encoded data removed]",
      "text/plain": [
       "<Figure size 432x288 with 1 Axes>"
      ]
     },
     "metadata": {
      "needs_background": "light"
     },
     "output_type": "display_data"
    }
   ],
   "source": [
    "# metric == euclidic + Tfidf\n",
    "optimal_neighbors(\"tfidf\", \"euclidean\",10, 210, 10)"
   ]
  },
  {
   "cell_type": "code",
   "execution_count": 119,
   "metadata": {
    "scrolled": true
   },
   "outputs": [
    {
     "name": "stdout",
     "output_type": "stream",
     "text": [
      "#10\n",
      "#20\n",
      "#30\n",
      "#40\n",
      "#50\n",
      "#60\n",
      "#70\n",
      "#80\n",
      "#90\n",
      "#100\n",
      "#110\n",
      "#120\n",
      "#130\n",
      "#140\n",
      "#150\n",
      "#160\n",
      "#170\n",
      "#180\n",
      "#190\n",
      "#200\n",
      "[0.3868656953838052, 0.42761206502452764, 0.44449386721738965, 0.45571855462596683, 0.4651757861876637, 0.475075455849505, 0.48073160983071217, 0.480997541375227, 0.4885986419962432, 0.49186776275081767, 0.49151425752090877, 0.492397469891478, 0.49443092758553747, 0.496287456907982, 0.5002649941756586, 0.497701266919625, 0.5046835634901954, 0.5030046655660082, 0.504684407122166, 0.5045084629878501]\n",
      "[<matplotlib.lines.Line2D object at 0x106315f90>]\n"
     ]
    },
    {
     "data": {
      "text/plain": [
       "'Optimal number = 190'"
      ]
     },
     "execution_count": 119,
     "metadata": {},
     "output_type": "execute_result"
    },
    {
     "data": {
      "image/png": "[encoded data removed]",
      "text/plain": [
       "<Figure size 432x288 with 1 Axes>"
      ]
     },
     "metadata": {
      "needs_background": "light"
     },
     "output_type": "display_data"
    }
   ],
   "source": [
    "#Tfidf + metric == cosine\n",
    "optimal_neighbors(\"tfidf\", \"cosine\",10, 210, 10)"
   ]
  },
  {
   "cell_type": "markdown",
   "metadata": {},
   "source": [
    "### Самым производительным оказался метод, использующий косинусную метрику и Tfidf в количестве соседей, равном 190. Его и используем далее."
   ]
  },
  {
   "cell_type": "markdown",
   "metadata": {},
   "source": [
    "Загрузим  теперь test  часть нашей выборки и преобразуем её аналогично с train частью. Не забудьте, что наборы слов в train и test части могут отличаться."
   ]
  },
  {
   "cell_type": "code",
   "execution_count": 24,
   "metadata": {},
   "outputs": [],
   "source": [
    "newsgroups = fetch_20newsgroups(subset='test',remove=['headers','footers', 'quotes'])"
   ]
  },
  {
   "cell_type": "markdown",
   "metadata": {},
   "source": [
    "Оценим точность вашей лучшей модели на test части датасета. Отличается ли оно от кросс-валидации? Попробуйте сделать выводы, почему отличается качество."
   ]
  },
  {
   "cell_type": "code",
   "execution_count": 25,
   "metadata": {},
   "outputs": [
    {
     "name": "stdout",
     "output_type": "stream",
     "text": [
      "[0.47112704 0.46555157 0.49601594]\n",
      "Mean for accuracy = 0.4775648501176497\n"
     ]
    }
   ],
   "source": [
    "data_test = newsgroups['data']\n",
    "target_test = newsgroups['target']\n",
    "vtext = TfidfVectorizer(min_df = 0.01, max_df = 0.8)\n",
    "vmas = vtext.fit_transform(data_test)\n",
    "newdat_test = vmas.toarray()\n",
    "res = list()\n",
    "folds_ind = KFold(n_splits = 3, shuffle = True)\n",
    "for train_index, test_index in folds_ind.split(target_test):\n",
    "    X_train  = newdat_test[train_index]\n",
    "    X_test  = newdat_test[test_index]\n",
    "    Y_train = target_test[train_index]\n",
    "    Y_test  = target_test[test_index]\n",
    "    my_clf = MyKNeighborsClassifier(n_neighbors = 190, algorithm = 'brute', metric = \"cosine\" )\n",
    "    my_clf.fit(X_train,Y_train)\n",
    "    res.append(accuracy_score(my_clf.predict(X_test),Y_test))\n",
    "print(np.asarray(res))\n",
    "print(\"Mean for accuracy = \" + str(np.mean(np.asarray(res))))"
   ]
  },
  {
   "cell_type": "markdown",
   "metadata": {},
   "source": [
    "### Как видно из полученного, средний скор отличается от среднего скора на выборке train приблизительно на 0.03. Подобное изменение может быть связано с изменением непосредственно словаря, получаемого в ходе разбиения текстов, с изменением частоты появления в текстах тех или иных слов из словаря, полученного из train - набора, а также с изменением содержательности самих текстов."
   ]
  }
 ],
 "metadata": {
  "kernelspec": {
   "display_name": "Python 3",
   "language": "python",
   "name": "python3"
  },
  "language_info": {
   "codemirror_mode": {
    "name": "ipython",
    "version": 3
   },
   "file_extension": ".py",
   "mimetype": "text/x-python",
   "name": "python",
   "nbconvert_exporter": "python",
   "pygments_lexer": "ipython3",
   "version": "3.7.9"
  }
 },
 "nbformat": 4,
 "nbformat_minor": 2
}
